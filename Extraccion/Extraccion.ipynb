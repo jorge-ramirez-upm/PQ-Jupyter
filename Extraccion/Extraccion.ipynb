{
 "cells": [
  {
   "cell_type": "markdown",
   "metadata": {},
   "source": [
    "<img style=\"float: right;\" src=\"img/Esquema.png\" width=\"400\">\n",
    "\n",
    "<figure>\n",
    "    <a href=\"http://www.upm.es\">\n",
    "    <img style=\"float: right;\" src=\"img/UPMLogo.png\" width=\"100\">\n",
    "    </a>\n",
    "</figure>\n",
    "\n",
    "<b><font size=\"6\">Extracción líquido-líquido</font></b>\n",
    "\n",
    "© **[Jorge Ramírez](http://blogs.upm.es/compsoftmatter/)**, **[Universidad Politécnica de Madrid](http://www.upm.es)**, 2020"
   ]
  },
  {
   "cell_type": "markdown",
   "metadata": {},
   "source": [
    "# Introducción\n",
    "La **extracción líquido-líquido** es una operación de separación mediante transferencia de materia en la que una especie química (soluto **C**) pasa de una fase líquida **A** a otra fase líquida **B**. Para que la operación sea provechosa se deberían cumplir las siguientes condiciones:\n",
    "\n",
    "- el líquido **B** tiene que tener mayor afinidad por el soluto **C** de la que tiene el líquido **A**.\n",
    "- Los líquidos **A** y **B** deben ser inmiscibles o parcialmente miscibles.\n",
    "\n",
    "En esta unidad vamos a repasar algunos conceptos básicos sobre representación de mezclas en diagramas ternarios, que utilizaremos para resolver problemas de extracción líquido-líquido que aparecen con frecuencia en Ingeniería Química.\n",
    "\n",
    "Comenzamos cargando algunas de las librerías que utilizaremos en esta presentación. Los códigos dentro del fichero `extraccion.py` han sido escritos expresamente para este ejercicio. Se puede inspeccionar el contenido del fichero para ver los detalles de la implementación. \n",
    "\n",
    "Ejecute el siguiente código para cargar las librerías necesarias (seleccione la celda y presione `Shift + Enter`). "
   ]
  },
  {
   "cell_type": "code",
   "execution_count": 13,
   "metadata": {
    "init_cell": true
   },
   "outputs": [],
   "source": [
    "from extraccion import *"
   ]
  },
  {
   "cell_type": "markdown",
   "metadata": {},
   "source": [
    "# Mezclas de tres compuestos y diagramas ternarios\n",
    "\n",
    "En los procesos de extracción participan tres sustancias: el líquido **A**, del cual queremos extraer el soluto **C**, y el líquido **B** que utilizamos como disolvente. La composición del sistema queda totalmente determinada por dos de las tres fracciones molares o másicas de las sustancias, dado que en todo momento se tiene que cumplir que \n",
    "\n",
    "\\begin{equation}\n",
    "x_A + x_B + x_C = 1\n",
    "\\label{eq:fracc}\n",
    "\\end{equation}\n",
    "\n",
    "La misma relación se cumple si trabajamos con fracciones másicas ($w_A + w_B + w_C = 1$). Si la composición del sistema está dada en %, entonces la relación se convierte en $x_A + x_B + x_C = 100$. Por tanto, dado que solo necesitamos 2 de las 3 composiciones, la composición de un sistema de tres componentes se puede determinar utilizando un plano 2D (a diferencia de mezclas binarias, en las que la composición se puede determinar totalmente utilizando una línea 1D, ya que con conocer la fracción molar de una de las dos sustancias es suficiente). \n",
    "\n",
    "En lugar de utilizar un plano con los típicos ejes cartesianos, es común utilizar los **diagramas triangulares o ternarios** para representar mezclas de tres compuestos. En este diagrama las líneas de los ejes forman un ángulo de 60° (en lugar de los 90° que forman en un diagrama con ejes cartesianos) y el diagrama completo consiste en un triángulo equilátero.\n",
    "\n",
    "Un diagrama ternario se caracteriza por:\n",
    "\n",
    "- Cada uno de los tres vértices del triángulo representa cada uno de los tres compuestos puros. Es decir, el vértice **A** representa una mezcla cuya composición es 100% **A** y 0% de **B** y **C**.\n",
    "\n",
    "- Todos los puntos en el borde e interior del triángulo representan mezclas cuya composición cumple la eq. \\eqref{eq:fracc}. \n",
    "\n",
    "- Las composiciones de los tres compuestos en la mezcla se pueden leer trazando líneas paralelas a los lados del triángulo y leyendo los valores de los ejes. En concreto, para leer la composición del compuesto **A**, tendremos que trazar una línea paralela al lado opuesto al vértice que representa el compuesto **A**.\n",
    "\n",
    "- La identidad de las sustancias que forman parte de la mezcla pueden estar representadas tanto en los vértices del triángulo como en el lado que indica su composición en fracción o % (molar o másico).\n",
    "\n",
    "<img src=\"img/VertexvsSides.png\" width=\"400\">\n",
    "\n",
    "- Hay que tener precaución, pues existen diagramas triangulares en los que los valores de los ejes crecen en el sentido contrario a las agujas del reloj (lo más habitual) y diagramas en los que los valores crecen en el sentido de las agujas del reloj. \n",
    "<img src=\"img/ClockWise.png\" width=\"400\">\n",
    "\n",
    "A continuación se muestra un ejercicio para practicar con la lectura de puntos en un diagrama triangular de tres compuestos **A**, **B** y **C**. Ejecute el siguiente código y varíe los valores de las composiciones de **A** y **B** en % (respetando que su suma no sea nunca superior a 100%), y seleccione un sentido de los ejes. Observe cómo se representa el punto en el diagrama y cómo se leen las composiciones. Observe también cómo, aunque la posición del punto en el diagrama no cambia cuando se cambia el sentido de los ejes, sí que cambia el modo en que hay que leer las composiciones en los ejes. Por claridad, se muestran las etiquetas de los compuestos **A**, **B** y **C** tanto en los vértices como en los lados que indican su respectiva composición. Tenga en cuenta que, en diagramas reales, estas etiquetas aparecerán solamente en uno de los dos lugares."
   ]
  },
  {
   "cell_type": "code",
   "execution_count": 14,
   "metadata": {
    "init_cell": true
   },
   "outputs": [
    {
     "data": {
      "application/vnd.jupyter.widget-view+json": {
       "model_id": "87d3a013a4b24b34b12d5e00e91a41c6",
       "version_major": 2,
       "version_minor": 0
      },
      "text/plain": [
       "VBox(children=(HBox(children=(BoundedFloatText(value=30.0, description='$x_A$ (%)', step=1.0), BoundedFloatTex…"
      ]
     },
     "metadata": {},
     "output_type": "display_data"
    }
   ],
   "source": [
    "display(VBox([controlsternary, outputternary]))"
   ]
  },
  {
   "cell_type": "markdown",
   "metadata": {},
   "source": [
    "En los ejemplos siguientes, por simplificar la discusión, solamente mostraremos diagramas en los que los ejes crecen en el sentido **contrario a las agujas del reloj**, las composiciones se muestran **en porcentaje %** y **la identidad de los compuestos se indica en los lados del diagrama triangular**. "
   ]
  },
  {
   "cell_type": "markdown",
   "metadata": {},
   "source": [
    "# Mezcla de dos disoluciones y regla de la palanca\n",
    "\n",
    "Cuando se mezclan dos disoluciones ternarias de caudales $F_1$ y $F_2$ y composiciones dadas por $(x_{A1}, x_{B1})$ y $(x_{A2}, x_{B2})$, es muy fácil determinar el caudal $F_M$ y la composición $(x_{AM}, x_{BM})$ de la mezcla resultante resolviendo un sencillo balance de materia:\n",
    "\n",
    "\\begin{equation}\n",
    "\\begin{array}{rl}\n",
    "F_M = & F_1 + F_2 \\\\ \n",
    "x_{AM} F_M = & x_{A1}F_1 + x_{A2} F_2 \\\\\n",
    "x_{BM} F_M = & x_{B1}F_1 + x_{B2} F_2\n",
    "\\end{array}\n",
    "\\label{eq:massbalance}\n",
    "\\end{equation}\n",
    "\n",
    "Haciendo un poco de álgebra con las ecuaciones anteriores, es fácil llegar a la siguiente ecuación:\n",
    "\\begin{equation}\n",
    "x_{BM} =  x_{B1} + (x_{AM}-x_{A1})\\frac{x_{B2}-x_{B1}}{x_{A2}-x_{A1}}\n",
    "\\label{eq:massbalancerecta}\n",
    "\\end{equation}\n",
    "que es la ecuación de una recta que pasa por los puntos $(x_{A1}, x_{B1})$ y $(x_{A2}, x_{B2})$. Es decir, la **composición** $(x_{AM}, x_{BM})$ del punto de **mezcla** $M$ se encuentra siempre situada en la **recta que une los puntos de las dos disoluciones 1 y 2 que se han mezclado**.\n",
    "\n",
    "De forma similar, operando con la ecuaciones del balance de masa \\eqref{eq:massbalance} es posible llegar a las siguientes relaciones:\n",
    "\\begin{equation}\n",
    "\\begin{array}{rl}\n",
    "F_1(x_{AM}-x_{A1}) = & F_2(x_{A2}-x_{AM})  \\\\ \n",
    "F_1(x_{BM}-x_{B1}) = & F_2(x_{B2}-x_{BM})  \n",
    "\\end{array}\n",
    "\\label{eq:masslever}\n",
    "\\end{equation}\n",
    "que representan la famosa **regla de la palanca**. Es decir, el punto de mezcla se va a localizar como si fuera el punto de apoyo de una palanca que equilibra los caudales $F_1$ y $F_2$.\n",
    "\n",
    "<img src=\"img/lever.png\" width=\"400\">\n",
    "\n",
    "En el siguiente ejemplo, se muestra un diagrama triangular en el que se pueden modificar las composiciones y caudales de dos corrientes 1 y 2. Observe cómo la posición del punto de mezcla $M$ va cambiando en función de los valores seleccionados, y compruebe cómo siempre se encuentra en la recta que une a los puntos 1 y 2, respetando siempre la regla de la palanca."
   ]
  },
  {
   "cell_type": "code",
   "execution_count": 15,
   "metadata": {
    "init_cell": true
   },
   "outputs": [
    {
     "data": {
      "application/vnd.jupyter.widget-view+json": {
       "model_id": "0358454182c044559359434d7d29591a",
       "version_major": 2,
       "version_minor": 0
      },
      "text/plain": [
       "VBox(children=(HBox(children=(BoundedFloatText(value=100.0, description='$F_1$ (mol/s)', max=300.0, step=10.0)…"
      ]
     },
     "metadata": {},
     "output_type": "display_data"
    }
   ],
   "source": [
    "display(VBox([controlslever, outputlever]))"
   ]
  },
  {
   "cell_type": "markdown",
   "metadata": {},
   "source": [
    "# Curva de solubilidad o binodal\n",
    "\n",
    "En diagramas ternarios donde la solubilidad no es perfecta entre los tres compuestos de la mezcla en todas las composiciones, aparecen diferentes regiones. La **curva de solubilidad** o **binodal** representa el límite entre la región del diagrama donde existe una mezcla homogénea (solo hay una fase) y la la zona del diagrama donde la mezcla es heterogénea (se produce una separación en dos fases de composición diferente). De cara a poder realizar la operación de extracción es **muy importante que el punto de mezcla** resultante de combinar la alimentación y el disolvente (ver más adelante) se sitúe **dentro de la zona delimitada por la curva binodal**. \n",
    "\n",
    "En el siguiente ejemplo, se muestra un diagrama ternario utilizado para separar ácido etanoico de agua, utilizando etanoato de etilo como disolvente. El área encerrada por la curva binodal se muestra de color naranja. Compruebe cómo, al modificar la composición del punto $M$, el punto se mueve dentro o fuera de la zona bifásica, haciendo posible o imposible, respectivamente, llevar a cabo la operación de extracción líquido-líquido."
   ]
  },
  {
   "cell_type": "code",
   "execution_count": 16,
   "metadata": {
    "init_cell": true
   },
   "outputs": [
    {
     "data": {
      "application/vnd.jupyter.widget-view+json": {
       "model_id": "66167f3243e7480db57e30142fa0123d",
       "version_major": 2,
       "version_minor": 0
      },
      "text/plain": [
       "VBox(children=(HBox(children=(BoundedFloatText(value=30.0, description='$x_{AM}$ (%)', step=1.0), BoundedFloat…"
      ]
     },
     "metadata": {},
     "output_type": "display_data"
    }
   ],
   "source": [
    "display(VBox([controlsbinodal, outputbinodal]))"
   ]
  },
  {
   "cell_type": "markdown",
   "metadata": {},
   "source": [
    "Es importante destacar que, aunque en los ejemplos utilizados en este ejercicio y en la mayoría de los apuntes de clase, el diagrama triangular se dispone de modo que la sustancia a extraer (el soluto) se encuentra siempre situado en el vértice superior del triángulo equilátero, ya que es la disposición más habitual, esta situación no tiene por qué ser siempre así. Es importante manejar con soltura los diagramas ternarios para ser capaz de resolver problemas en los que la disposición de las sustancias en el diagrama sea diferente a la habitual y en los que la curva binodal tenga diferentes geometrías."
   ]
  },
  {
   "cell_type": "markdown",
   "metadata": {},
   "source": [
    "# Rectas de reparto\n",
    "\n",
    "Cuando una mezcla dada se encuentra dentro del área encerrada por la curva binodal, se produce una separación de fases. La disolución se separa en dos fases (o disoluciones) con composiciones diferentes. Gracias a la diferencia de densidad de ambas fases, estas se pueden separar fácilmente por gravedad o utilizando otros medios mecánicos. \n",
    "\n",
    "En los diagramas ternarios, se pueden determinar las composiciones de las dos fases que se forman recurriendo a las **rectas de reparto**. Las rectas de reparto unen dos puntos de la curva binodal. Cualquier punto $M$ situado sobre una recta de reparto se separará en dos disoluciones con composiciones dadas por los puntos $E$ y $R$ (de **Extracto** y **Refinado**, que se definirán en la sección siguiente) situados en los extremos de la recta de reparto. \n",
    "\n",
    "En teoría, por cada punto todo el área encerrada por la curva binodal pasa una recta de reparto. Para evitar tener diagramas llenos de líneas y difíciles de interpretar, se suelen especificar solamente un número pequeño de rectas de reparto. En estos casos, hay que proceder como sigue:\n",
    "\n",
    "- Si el punto $M$ coincide con una línea de reparto, entonces es fácil buscar las composiciones $E$ y $R$ de las dos fases que se generan, simplemente tomando los extremos de dicha recta de reparto.\n",
    "\n",
    "- Si el punto $M$ no coincide con una línea de reparto, hay que interpolar entre las líneas más próximas al punto para obtener la línea de reparto que pasa por el punto $M$. Este procedimiento puede dar lugar a error, por lo que hay que hacerlo con cuidado.\n",
    "\n",
    "En el siguiente ejemplo, se muestra el mismo diagrama ternario anterior, con una serie de rectas de reparto previamente definidas. Modifique la composición del punto $M$ para que se sitúe dentro del área encerrado por la curva binodal y observe cómo se construye la línea de reparto y se determinan las composiciones de los puntos $R$ y $E$, correspondientes a las dos fases que se generan."
   ]
  },
  {
   "cell_type": "code",
   "execution_count": 17,
   "metadata": {
    "init_cell": true
   },
   "outputs": [
    {
     "data": {
      "application/vnd.jupyter.widget-view+json": {
       "model_id": "bd65967549fb4c0d8260679b5d88590c",
       "version_major": 2,
       "version_minor": 0
      },
      "text/plain": [
       "VBox(children=(HBox(children=(BoundedFloatText(value=30.0, description='$x_A$ (%)', step=1.0), BoundedFloatTex…"
      ]
     },
     "metadata": {},
     "output_type": "display_data"
    }
   ],
   "source": [
    "display(VBox([controlsreparto, outputreparto]))"
   ]
  },
  {
   "cell_type": "markdown",
   "metadata": {},
   "source": [
    "# Operación de extracción líquido-líquido simple\n",
    "\n",
    "<img style=\"float: right;\" src=\"img/UnaEtapa.png\" width=\"350\">\n",
    "\n",
    "El caso más sencillo de operación de extracción líquido-líquido consiste en una sola etapa. De forma simplificada, se desea extraer un soluto $C$ de una disolución en la que el disolvente mayoritario es $A$ (ya sea porque se quiere descontaminar $A$ o porque se desea purificar $C$). Para ello se utiliza un disolvente $B$ que tiene mayor afinidad por el soluto $C$ que $A$ (ver la imagen adjunta). \n",
    "\n",
    "A la salida del proceso, se obtienen dos corrientes:\n",
    "\n",
    "- **Refinado**: Corriente en la que $A$ es el compuesto mayoritario. En condiciones ideales (ver figura) se obtendría $A$ puro pero, como veremos más adelante, es prácticamente imposible de conseguir en una operación simple.\n",
    "\n",
    "- **Extracto**: Corriente en la que $B$ es el compuesto mayoritario. En condiciones ideales (ver figura) se extraería todo el soluto $C$ presente en la alimentación sin extraer nada de $A$. De nuevo, como veremos, es un resultado muy difícil de conseguir en una extracción simple.\n",
    "\n",
    "Para resolver este problema, utilizaremos diagramas ternarios."
   ]
  },
  {
   "cell_type": "markdown",
   "metadata": {},
   "source": [
    "## Solución de una operación de extracción simple\n",
    "\n",
    "El procedimiento gráfico consiste en los siguiente pasos:\n",
    "\n",
    "1) Situar en el diagrama el punto $F$ (correspondiente a la alimentación). Típicamente, esta corriente contiene únicamente $A$ y $C$ por lo que el punto $F$ se situará en el lado del triángulo que une los vértices que representan el 100 % de $A$ y el 100 % de $C$. En realidad, la alimentación puede ser una mezcla ternaria y el punto puede estar en el interior del diagrama.\n",
    "\n",
    "2) Situar en el diagrama el punto $S$ (correspondiente al disolvente). Típicamente, el disolvente es puro y, por tanto, el punto $S$ se situará en el vértice del triángulo que representa el 100% de disolvente. \n",
    "\n",
    "3) Unir los puntos $F$ y $S$ con una línea recta. \n",
    "\n",
    "4) Conocidos los caudales de $F$ y $S$, resolver el balance de materia o aplicar la regla de la palanca para situar en la recta anterior el punto $M$ representativo de la composición de la mezcla de las corrientes $F$ y $S$. \n",
    "\n",
    "5) Si el punto $M$ se encuentra dentro de la zona encerrada por la curva binodal, trazar la recta de reparto que pasa por el punto $M$, bien tomando una de las rectas ya existentes en el diagrama o interpolando entre las rectas más próximas. \n",
    "\n",
    "6) En los dos extremos de la recta de reparto, situar los puntos $R$ (refinado, más rico en $A$) y $E$ (extracto, más rico en $B$). \n",
    "\n",
    "7) Conocidas las composiciones de $M$, $R$ y $E$, resolver el balance de materia o aplicar la regla de la palanca para calcular los caudales de las corrientes $R$ y $E$.\n",
    "\n",
    "En el siguiente ejemplo, se realiza la extracción líquido-líquido simple de ácido etanoico de agua, utilizando etanoato de etilo como disolvente. La alimentación, de caudal $F$ (en mol/s) contiene solamente agua y ácido etanoico (cuyo porcentaje molar es $x_F$). El disolvente es etanoato de etilo puro y tiene un caudal $S$ (en mol/s). \n",
    "\n",
    "Compruebe cómo, a medida que se modifican las 3 variables del problema, la solución se construye. Compruebe los resultados obtenidos."
   ]
  },
  {
   "cell_type": "code",
   "execution_count": 18,
   "metadata": {
    "init_cell": true
   },
   "outputs": [
    {
     "data": {
      "application/vnd.jupyter.widget-view+json": {
       "model_id": "76dc8b6a02bb43c88cf53ef42c0ec1e6",
       "version_major": 2,
       "version_minor": 0
      },
      "text/plain": [
       "VBox(children=(HBox(children=(BoundedFloatText(value=30.0, description='$x_F$ (%)', min=1.0, step=1.0), Bounde…"
      ]
     },
     "metadata": {},
     "output_type": "display_data"
    }
   ],
   "source": [
    "display(VBox([controlsextraccionsimple, outputextraccionsimple]))"
   ]
  }
 ],
 "metadata": {
  "celltoolbar": "Initialization Cell",
  "kernelspec": {
   "display_name": "Python 3",
   "language": "python",
   "name": "python3"
  },
  "language_info": {
   "codemirror_mode": {
    "name": "ipython",
    "version": 3
   },
   "file_extension": ".py",
   "mimetype": "text/x-python",
   "name": "python",
   "nbconvert_exporter": "python",
   "pygments_lexer": "ipython3",
   "version": "3.7.4"
  },
  "toc": {
   "base_numbering": 1,
   "nav_menu": {},
   "number_sections": true,
   "sideBar": true,
   "skip_h1_title": false,
   "title_cell": "Table of Contents",
   "title_sidebar": "Contents",
   "toc_cell": false,
   "toc_position": {},
   "toc_section_display": true,
   "toc_window_display": false
  }
 },
 "nbformat": 4,
 "nbformat_minor": 4
}
