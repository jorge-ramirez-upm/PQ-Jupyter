{
 "cells": [
  {
   "cell_type": "markdown",
   "metadata": {
    "slideshow": {
     "slide_type": "slide"
    }
   },
   "source": [
    "<figure>\n",
    "    <a href=\"http://www.upm.es\">\n",
    "    <img style=\"float: right;\" src=\"img/UPMLogo.png\" width=\"100\">\n",
    "    </a>\n",
    "</figure>\n",
    "\n",
    "<b><font size=\"6\">Chemical Processess</font></b>\n",
    "\n",
    "# Reactor association and Levenspiel plots\n",
    "\n",
    "#### © **[Jorge Ramírez](http://blogs.upm.es/compsoftmatter/)**, **[Universidad Politécnica de Madrid](http://www.upm.es)**, 2023\n",
    "\n",
    "<img style=\"float: right;\" src=\"img/pfr.svg\" width=\"300\">\n",
    "<img style=\"float: right;\" src=\"img/cstr.png\" width=\"150\">"
   ]
  },
  {
   "cell_type": "markdown",
   "metadata": {
    "slideshow": {
     "slide_type": "slide"
    }
   },
   "source": [
    "In this interactive exercise, we will explore how to use Levenspiel plots to select the optimal combination of ideal flow reactors (CSTR and PFR) to optimize the total volume of reactors required to obtain a given yield. \n",
    "\n",
    "First, we review the design equations of such ideal reactors."
   ]
  },
  {
   "cell_type": "markdown",
   "metadata": {
    "slideshow": {
     "slide_type": "slide"
    }
   },
   "source": [
    "## Ideal and isothermal flow reactor design equations\n",
    "\n",
    "A reactor is used to carry out the reaction $A \\to B$. Starting from the general equation of mass balance:\n",
    "\n",
    "<img style=\"float: right;\" src=\"img/balanceflujo.png\" width=\"300\">\n",
    "\n",
    "$$ F_{A,in} - F_{A,out} - r_A V = \\frac{dn_A}{dt} $$\n",
    "\n",
    "where:\n",
    "\n",
    "- $V$ is a certain control volume, \n",
    "- $F_{A,in}$ and $F_{A,out}$ are the molar flow rates of the reactant $A$ at the input and output of the volume $V$ respectively, \n",
    "- $r_A$ is the reaction rate of $A$ and \n",
    "- $dn_A/dt$ is the variation in the number of moles of $A$ within the control volume per unit of time. In the **steady state**, this derivative is 0."
   ]
  },
  {
   "cell_type": "markdown",
   "metadata": {
    "slideshow": {
     "slide_type": "slide"
    }
   },
   "source": [
    "<img style=\"float: right;\" src=\"img/cstr_scheme.png\" width=\"250\">\n",
    "\n",
    "## Stirred Tank Reactor (CSTR)\n",
    "\n",
    "The design equation (see theory) is:\n",
    "\n",
    "$$ V =  \\frac{F_{A0}X_A}{r_A}$$\n",
    "\n",
    "In the equation and in the previous figure we have:\n",
    "\n",
    "- $V$ is the volume of the CSTR reactor, \n",
    "- $\\dot{V}_0$ is the molar flow rate at reactor inlet (and outlet),\n",
    "- $c_{A0}$ is the concentration of reactant $A$ at the reactor inlet,\n",
    "- $F_{A0}$ is the molar flow rate of the reactant $A$ at the reactor inlet (It is satisfied that $F_{A0}=c_{A0}\\dot{V}_0$). \n",
    "- $r_A$ is the reaction rate of $A$ and\n",
    "- $X_A$ is the conversion achieved in the reactor.\n",
    "\n",
    "As can be seen in the design equation, the volume of the reactor $V$ corresponds to the area of a rectangle whose base is $X_A$ and the height is $\\frac{F_{A0}}{r_A}$."
   ]
  },
  {
   "cell_type": "markdown",
   "metadata": {
    "slideshow": {
     "slide_type": "slide"
    }
   },
   "source": [
    "<img style=\"float: right;\" src=\"img/pfr_scheme.png\" width=\"350\">\n",
    "\n",
    "## Piston Flow Reactor (PFR)\n",
    "\n",
    "The design equation (see theory) is:\n",
    "\n",
    "$$ V = F_{A0} \\int_0^{X_A} \\frac{dX_A}{r_A} $$\n",
    "\n",
    "Both in the figure and in the design equation, $V$, $\\dot{V}_0$, $c_{A0}$, $F_{A0}$, $r_A$ and $X_A$ have the same meaning as in the CSTR reactor.\n",
    "\n",
    "As can be seen from the design equation, the volume of the reactor $V$ corresponds to the area under the curve given by the function $\\frac{F_{A0}}{r_A}$ between conversions 0 and $X_A$."
   ]
  },
  {
   "cell_type": "markdown",
   "metadata": {},
   "source": [
    "## Reaction velocities and Levenspiel Plots\n",
    "Next, we will explore the concepts of reaction rate and volume of an ideal reactor visually using Levenspiel plots. For this purpose, we will use the following rate laws:\n",
    "\n",
    "- Order -1: $r_A = \\frac{k}{c_A} = \\frac{k}{c_{A0} (1-X_A)}$\n",
    "- Order 0: $r_A = k$\n",
    "- Order 1: $r_A = k c_A = k c_{A0} (1-X_A)$\n",
    "- Order 2: $r_A = k c_A^2 = k c_{A0}^2 (1-X_A)^2$\n",
    "- Langmuir-Hinshelwood  kinetics: $r_A=\\frac{k c_{A0} \\left(1-X_A\\right)}{\\left(1+k_A c_{A0} \\left(1-X_A\\right)\\right)^2}$\n",
    "- X kinetics: $r_A = \\frac{1.0}{20 k c_{A0} (X_A-0.6)^2 + 4k}$\n",
    "- Y kinetics: $r_A = \\frac{1.0}{-20 k c_{A0} (X_A-0.4)^2 + 8k}$\n",
    "\n",
    "The module `levenspiel.py` contains functions that have been explicitly programmed for this page. The contents of this file can be explored by selecting it in the file browser, which is accessed from the home page of this server. \n",
    "\n",
    "In order to continue with this exercise, it is necessary to activate the code `levenspiel.py`. To do this, select the following code cell (with the text `In [*]:` to the left and press the keys `Shift + Enter`."
   ]
  },
  {
   "cell_type": "code",
   "execution_count": 1,
   "metadata": {},
   "outputs": [],
   "source": [
    " from levenspiel import *"
   ]
  },
  {
   "cell_type": "markdown",
   "metadata": {
    "slideshow": {
     "slide_type": "slide"
    }
   },
   "source": [
    "## Exploring kinetics\n",
    "\n",
    "First, let us explore the form that the different reaction kinetics have when they are represented as a function of conversion. To simplify the exercise, from now on it will be considered that $c_{A0}=1$ mol/L, $F_{A0}=1$ mol/s and $\\dot{V}_0=1$ L/s.\n",
    "\n",
    "Select the following code cell and press `Shift + Enter`. Two controls will appear in which you can select the reaction kinetics and the value of the reaction rate constant $k$ (between the values 0.1 and 5.0). Once you select a kinetic or a value of $k$, the graph of the reaction rate $r_A$ versus the conversion $X_A$ will be shown."
   ]
  },
  {
   "cell_type": "code",
   "execution_count": 2,
   "metadata": {},
   "outputs": [
    {
     "data": {
      "application/vnd.jupyter.widget-view+json": {
       "model_id": "427c361aa0b74fe0a1f94bab0b5eb536",
       "version_major": 2,
       "version_minor": 0
      },
      "text/plain": [
       "VBox(children=(HBox(children=(Dropdown(description='kinetics', options=('Order -1', 'Order 0', 'Order 1', 'Ord…"
      ]
     },
     "metadata": {},
     "output_type": "display_data"
    }
   ],
   "source": [
    "display(VBox([controlsrate, outputrate]))"
   ]
  },
  {
   "cell_type": "markdown",
   "metadata": {},
   "source": [
    "Actually, in both design equations the function we are really interested in representing is not $r_A$, but $\\frac{F_{A0}}{r_A}$. Run the following code and explore the form of the function $\\frac{F_{A0}}{r_A}$ versus conversion for different values of the reaction rante constant $k$."
   ]
  },
  {
   "cell_type": "code",
   "execution_count": 3,
   "metadata": {},
   "outputs": [
    {
     "data": {
      "application/vnd.jupyter.widget-view+json": {
       "model_id": "9614a9f2a85144af9a52b6f66db3f901",
       "version_major": 2,
       "version_minor": 0
      },
      "text/plain": [
       "VBox(children=(HBox(children=(Dropdown(description='kinetics', options=('Orden -1', 'Orden 0', 'Orden 1', 'Ord…"
      ]
     },
     "metadata": {},
     "output_type": "display_data"
    }
   ],
   "source": [
    "display(VBox([controlsFA_rate, outputFA_rate]))"
   ]
  },
  {
   "cell_type": "markdown",
   "metadata": {
    "slideshow": {
     "slide_type": "slide"
    }
   },
   "source": [
    "<img style=\"float: right;\" src=\"img/levenspiel.gif\" width=\"350\">\n",
    "\n",
    "## Association of reactors in series - Levenspiel Plots\n",
    "\n",
    "The above results can help us to design an optimal sequence of CSTR and PFR reactors in series such that the total volume is minimum. For this purpose, we draw the Levenspiel plot:\n",
    "\n",
    "- On the $y$ axis the function $F_{A,0}/r_A$ is plotted, where $F_{A,0}$ is the flow rate entering the first of the series reactors and $r_A$ is the reaction kinetics.\n",
    "- The $x$ axis represents the conversion of the reactant $A$, $X_A$.\n",
    "- Depending on the type of reactor, we determine its volume:\n",
    "   - **CSTR**: Area of the rectangle whose base is the difference of conversions between the reactor input and output and the height is the function $F_{A,0}/r_A$ measured at the reactor output conversion.\n",
    "   - **PFR**: Area under the $F_{A,0}/r_A$ curve between the reactor inlet and outlet conversions."
   ]
  },
  {
   "cell_type": "markdown",
   "metadata": {},
   "source": [
    "### Levenspiel Plot for one reactor\n",
    "\n",
    "Run the following code and explore how the reactor volume varies as you select:\n",
    "\n",
    "- The reactor type (CSTR, PFR)\n",
    "- The desired conversion $X_A$\n",
    "- The reaction kinetics\n",
    "- The reaction rate constant $k$"
   ]
  },
  {
   "cell_type": "code",
   "execution_count": 3,
   "metadata": {
    "scrolled": false
   },
   "outputs": [
    {
     "data": {
      "application/vnd.jupyter.widget-view+json": {
       "model_id": "661a2808213841ea81ca82d0e149955f",
       "version_major": 2,
       "version_minor": 0
      },
      "text/plain": [
       "VBox(children=(HBox(children=(Dropdown(description='Reactor', options=('CSTR', 'PFR'), value='CSTR'), BoundedF…"
      ]
     },
     "metadata": {},
     "output_type": "display_data"
    }
   ],
   "source": [
    "display(VBox([controls1, output1]))"
   ]
  },
  {
   "cell_type": "markdown",
   "metadata": {},
   "source": [
    "### Levenspiel plot for two reactors in series\n",
    "\n",
    "Run the following code and explore how the volume of each reactor and the overall volume (sum of the volumes of all reactors) for two reactors arranged in series varies when changing:\n",
    "\n",
    "- The reactor type (CSTR, PFR)\n",
    "- The desired conversion at the outlet of each reactor $X_{A1}$ and $X_{A2}$\n",
    "- The reaction kinetics\n",
    "- The reaction rate constant $k$"
   ]
  },
  {
   "cell_type": "code",
   "execution_count": 4,
   "metadata": {
    "scrolled": true,
    "slideshow": {
     "slide_type": "fragment"
    }
   },
   "outputs": [
    {
     "data": {
      "application/vnd.jupyter.widget-view+json": {
       "model_id": "eeb439a9fe9140c2bae5618396d18d8f",
       "version_major": 2,
       "version_minor": 0
      },
      "text/plain": [
       "VBox(children=(HBox(children=(Dropdown(description='Reactor1', options=('CSTR', 'PFR'), value='CSTR'), Dropdow…"
      ]
     },
     "metadata": {},
     "output_type": "display_data"
    }
   ],
   "source": [
    "display(VBox([controls2, output2]))"
   ]
  },
  {
   "cell_type": "markdown",
   "metadata": {},
   "source": [
    "### Levenspiel plot for three reactors in series\n",
    "\n",
    "Run the following code and explore how the volume of each reactor and the overall volume (sum of the volumes of all reactors) for two reactors arranged in series varies when changing:\n",
    "\n",
    "- The reactor type (CSTR, PFR)\n",
    "- The desired conversion at the outlet of each reactor $X_{A1}$, $X_{A2}$ and $X_{A3}$\n",
    "- The reaction kinetics\n",
    "- The reaction rate constant $k$"
   ]
  },
  {
   "cell_type": "code",
   "execution_count": 5,
   "metadata": {
    "scrolled": false,
    "slideshow": {
     "slide_type": "fragment"
    }
   },
   "outputs": [
    {
     "data": {
      "application/vnd.jupyter.widget-view+json": {
       "model_id": "1f4a89a43084429ca293440e25ae50ed",
       "version_major": 2,
       "version_minor": 0
      },
      "text/plain": [
       "VBox(children=(HBox(children=(Dropdown(description='Reactor1', options=('CSTR', 'PFR'), value='CSTR'), Dropdow…"
      ]
     },
     "metadata": {},
     "output_type": "display_data"
    }
   ],
   "source": [
    "display(VBox([controls3, output3]))"
   ]
  },
  {
   "cell_type": "markdown",
   "metadata": {
    "slideshow": {
     "slide_type": "skip"
    }
   },
   "source": [
    "## Bibliography - Other resources\n",
    "\n",
    "- H. S. Fogler, *Elements of Chemical Reaction Engineering*, 4th ed., Prentice Hall, 2005.\n",
    "- J. Kantor, *[Introduction to Chemical Engineering Analysis](https://github.com/jckantor/CBE20255)*, course CBE 20255, University of Notre Dame, Indiana, EE.UU.\n",
    "- [LearnChemE](http://www.learncheme.com/simulations)\n",
    "- [Computer Aided Chemical Engineering](https://github.com/CAChemE)"
   ]
  },
  {
   "cell_type": "code",
   "execution_count": null,
   "metadata": {},
   "outputs": [],
   "source": []
  }
 ],
 "metadata": {
  "kernelspec": {
   "display_name": "Python 3 (ipykernel)",
   "language": "python",
   "name": "python3"
  },
  "language_info": {
   "codemirror_mode": {
    "name": "ipython",
    "version": 3
   },
   "file_extension": ".py",
   "mimetype": "text/x-python",
   "name": "python",
   "nbconvert_exporter": "python",
   "pygments_lexer": "ipython3",
   "version": "3.7.4"
  }
 },
 "nbformat": 4,
 "nbformat_minor": 2
}
