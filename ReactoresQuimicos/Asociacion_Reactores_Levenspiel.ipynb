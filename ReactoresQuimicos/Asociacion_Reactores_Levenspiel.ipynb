{
 "cells": [
  {
   "cell_type": "markdown",
   "metadata": {
    "slideshow": {
     "slide_type": "slide"
    }
   },
   "source": [
    "<figure>\n",
    "    <a href=\"http://www.upm.es\">\n",
    "    <img style=\"float: right;\" src=\"img/UPMLogo.png\" width=\"100\">\n",
    "    </a>\n",
    "</figure>\n",
    "\n",
    "# Asociación de Reactores y Gráficas de Levenspiel\n",
    "\n",
    "#### © **[Jorge Ramírez](http://blogs.upm.es/compsoftmatter/)**, **[Universidad Politécnica de Madrid](http://www.upm.es)**, 2019\n",
    "\n",
    "<img style=\"float: right;\" src=\"img/pfr.svg\" width=\"300\">\n",
    "<img style=\"float: right;\" src=\"img/cstr.png\" width=\"150\">"
   ]
  },
  {
   "cell_type": "markdown",
   "metadata": {
    "slideshow": {
     "slide_type": "slide"
    }
   },
   "source": [
    "En este ejercicio interactivo, vamos a explorar cómo utilizar las gráficas de Levenspiel para seleccionar la combinación óptima de reactores de flujo ideales (CSTR y PFR) que permiten optimizar el volumen total de reactores necesario para obtener un determinado rendimiento. \n",
    "\n",
    "Primero, revisamos las ecuaciones de diseño de dichos reactores ideales."
   ]
  },
  {
   "cell_type": "markdown",
   "metadata": {
    "slideshow": {
     "slide_type": "slide"
    }
   },
   "source": [
    "## Ecuaciones de diseño de un reactor de flujo ideal e isotermo\n",
    "\n",
    "Se tiene un reactor en el que se lleva a cabo la reacción $A \\to B$. Partiendo de la ecuación general de balance de materia:\n",
    "\n",
    "<img style=\"float: right;\" src=\"img/balanceflujo.png\" width=\"300\">\n",
    "\n",
    "$$ F_{A,in} - F_{A,out} - r_A V = \\frac{dn_A}{dt} $$\n",
    "\n",
    "donde:\n",
    "\n",
    "- $V$ es un cierto volumen de control, \n",
    "- $F_{A,in}$ y $F_{A,out}$ son los caudales molares del reactivo $A$ a la entrada y salida del volumen $V$, respectivamente, \n",
    "- $r_A$ es la velocidad de reacción de $A$ y \n",
    "- $dn_A/dt$ es la variación en el nº de moles de $A$ dentro del volumen de control por unidad de tiempo. Al estar en el **régimen estacionario**, esta derivada vale 0."
   ]
  },
  {
   "cell_type": "markdown",
   "metadata": {
    "slideshow": {
     "slide_type": "slide"
    }
   },
   "source": [
    "<img style=\"float: right;\" src=\"img/cstr_scheme.png\" width=\"250\">\n",
    "\n",
    "## Reactor de tanque agitado (CSTR)\n",
    "\n",
    "La ecuación de diseño (ver teoría) queda:\n",
    "\n",
    "$$ V =  \\frac{F_{A0}X_A}{r_A}$$\n",
    "\n",
    "En la ecuación y en la figura anterior se tiene:\n",
    "\n",
    "- $V$ es el volumen del reactor CSTR, \n",
    "- $\\dot{V}_0$ es el caudal molar a la entrada (y a la salida) del reactor,\n",
    "- $c_{A0}$ es la concentración del reactivo $A$ a la entrada del reactor,\n",
    "- $F_{A0}$ es el caudal molar del reactivo $A$ a la entrada del reactor (se cumple $F_{A0}=c_{A0}\\dot{V}_0$). \n",
    "- $r_A$ es la velocidad de reacción de $A$ y \n",
    "- $X_A$ es la conversión alcanzada en el reactor.\n",
    "\n",
    "Como se puede observar en la ecuación de diseño, el volumen del reactor $V$ se corresponde con el área de un rectángulo cuya base es $X_A$ y la altura es $\\frac{F_{A0}}{r_A}$."
   ]
  },
  {
   "cell_type": "markdown",
   "metadata": {
    "slideshow": {
     "slide_type": "slide"
    }
   },
   "source": [
    "<img style=\"float: right;\" src=\"img/pfr_scheme.png\" width=\"350\">\n",
    "\n",
    "## Reactor tubular (PFR)\n",
    "\n",
    "La ecuación de diseño (ver teoría) queda:\n",
    "\n",
    "$$ V = F_{A0} \\int_0^{X_A} \\frac{dX_A}{r_A} $$\n",
    "\n",
    "Tanto en la figura como en la ecuación de diseño, $V$, $\\dot{V}_0$, $c_{A0}$, $F_{A0}$, $r_A$ y $X_A$ tienen el mismo significado que en el reactor CSTR.\n",
    "\n",
    "Como se puede observar en la ecuación de diseño, el volumen del reactor $V$ se corresponde con el área debajo de la curva dada por la función $\\frac{F_{A0}}{r_A}$ entre las conversiones 0 y $X_A$."
   ]
  },
  {
   "cell_type": "markdown",
   "metadata": {},
   "source": [
    "## Velocidades de Reacción y Gráficas de Levenspiel\n",
    "A continuación, vamos a explorar los conceptos de velocidad de reacción y volumen de un reactor ideal de forma visual utilizando las gráficas de Levenspiel. Para ello, utilizaremos las siguientes leyes de velocidad:\n",
    "\n",
    "- Orden -1: $r_A = \\frac{k}{c_A} = \\frac{k}{c_{A0} (1-X_A)}$\n",
    "- Orden 0: $r_A = k$\n",
    "- Orden 1: $r_A = k c_A = k c_{A0} (1-X_A)$\n",
    "- Orden 2: $r_A = k c_A^2 = k c_{A0}^2 (1-X_A)^2$\n",
    "- Cinética de Langmuir-Hinshelwood: $r_A=\\frac{k c_{A0} \\left(1-X_A\\right)}{\\left(1+k_A c_{A0} \\left(1-X_A\\right)\\right)^2}$\n",
    "- Cinética X: $r_A = \\frac{1.0}{20 k c_{A0} (X_A-0.6)^2 + 4k}$\n",
    "- Cinética Y: $r_A = \\frac{1.0}{-20 k c_{A0} (X_A-0.4)^2 + 8k}$\n",
    "\n",
    "El módulo `levenspiel.py` contiene funciones que se han programado explícitamente para esta página. Se puede explorar el contenido de dicho fichero seleccionándolo en el navegador de archivos, al que se accede desde la página principal de este servidor. \n",
    "\n",
    "Para poder continuar con este ejercicio, es necesario activar el código `levenspiel.py`. Para ello, seleccione la siguiente celda de código (con el texto `In [*]:` a la izquierda y presione las teclas `Shift + Enter`."
   ]
  },
  {
   "cell_type": "code",
   "execution_count": 1,
   "metadata": {},
   "outputs": [],
   "source": [
    " from levenspiel import *"
   ]
  },
  {
   "cell_type": "markdown",
   "metadata": {
    "slideshow": {
     "slide_type": "slide"
    }
   },
   "source": [
    "## Explorando las cinéticas\n",
    "\n",
    "Primero, vamos a explorar la forma que tienen las diferentes cinéticas de reacción cuando se representan en función de la conversión. Para simplificar el ejercicio, de ahora en adelante se considerará que $c_{A0}=1$ mol/L, $F_{A0}=1$ mol/s y $\\dot{V}_0=1$ L/s.\n",
    "\n",
    "Seleccione la siguiente celda de código y presione `Shift + Enter`. Aparecerán dos controles en los que se puede seleccionar la cinética de reacción y el valor de la constante de velocidad $k$ (entre los valores 0.1 y 5.0). Una vez seleccione una cinética o un valor de $k$ determinados, se mostrará la gráfica de la velocidad de reacción $r_A$ frente a la conversión $X_A$."
   ]
  },
  {
   "cell_type": "code",
   "execution_count": 2,
   "metadata": {},
   "outputs": [
    {
     "data": {
      "application/vnd.jupyter.widget-view+json": {
       "model_id": "e3bb354123fd493982ec9711307a81da",
       "version_major": 2,
       "version_minor": 0
      },
      "text/plain": [
       "VBox(children=(HBox(children=(Dropdown(description='kinetics', options=('Orden -1', 'Orden 0', 'Orden 1', 'Ord…"
      ]
     },
     "metadata": {},
     "output_type": "display_data"
    }
   ],
   "source": [
    "display(VBox([controlsrate, outputrate]))"
   ]
  },
  {
   "cell_type": "markdown",
   "metadata": {},
   "source": [
    "En realidad, en ambas ecuaciones de diseño la función que realmente nos interesa representar no es $r_A$, sino $\\frac{F_{A0}}{r_A}$. Ejecute el siguiente código y explore la forma de la función $\\frac{F_{A0}}{r_A}$ frente a la conversión para diferentes valores de la constante de velocidad $k$."
   ]
  },
  {
   "cell_type": "code",
   "execution_count": 3,
   "metadata": {},
   "outputs": [
    {
     "data": {
      "application/vnd.jupyter.widget-view+json": {
       "model_id": "9614a9f2a85144af9a52b6f66db3f901",
       "version_major": 2,
       "version_minor": 0
      },
      "text/plain": [
       "VBox(children=(HBox(children=(Dropdown(description='kinetics', options=('Orden -1', 'Orden 0', 'Orden 1', 'Ord…"
      ]
     },
     "metadata": {},
     "output_type": "display_data"
    }
   ],
   "source": [
    "display(VBox([controlsFA_rate, outputFA_rate]))"
   ]
  },
  {
   "cell_type": "markdown",
   "metadata": {
    "slideshow": {
     "slide_type": "slide"
    }
   },
   "source": [
    "<img style=\"float: right;\" src=\"img/levenspiel.gif\" width=\"350\">\n",
    "\n",
    "## Asociación de reactores en serie - Gráficas de Levenspiel\n",
    "\n",
    "Los resultados anteriores nos pueden ayudar a diseñar una secuencia óptima de reactores CSTR y PFR en serie tal que el volumen total sea mínimo. Para ello, representamos la gráfica de Levenspiel:\n",
    "\n",
    "- En el eje $y$ se representa la función $F_{A,0}/r_A$, donde $F_{A,0}$ es el caudal que entra en el primero de los reactores en serie y $r_A$ es la cinética de la reacción. \n",
    "- En el eje $x$ se representa la conversión del reactivo $A$, $X_A$.\n",
    "- Dependiendo del tipo de reactor, determinamos su volumen:\n",
    "   - **CSTR**: Área del rectángulo cuya base es la diferencia de conversiones entre la entrada y la salida del reactor y la altura es la función $F_{A,0}/r_A$ medida en la conversión de salida del reactor.\n",
    "   - **PFR**: Área debajo de la curva $F_{A,0}/r_A$ entre las conversiones de la entrada y la salida del reactor."
   ]
  },
  {
   "cell_type": "markdown",
   "metadata": {},
   "source": [
    "### Gráfica de Levenspiel para un reactor\n",
    "\n",
    "Ejecute el siguiente código y explore cómo varía el volumen del reactor al seleccionar: \n",
    "\n",
    "- El tipo de reactor (CSTR, PFR)\n",
    "- La conversión deseada $X_A$\n",
    "- La cinética de reacción\n",
    "- La constante cinética $k$"
   ]
  },
  {
   "cell_type": "code",
   "execution_count": 4,
   "metadata": {
    "scrolled": false
   },
   "outputs": [
    {
     "data": {
      "application/vnd.jupyter.widget-view+json": {
       "model_id": "6dbd9e34baf14ca480b99fc053eb48de",
       "version_major": 2,
       "version_minor": 0
      },
      "text/plain": [
       "VBox(children=(HBox(children=(Dropdown(description='Reactor', options=('CSTR', 'PFR'), value='CSTR'), BoundedF…"
      ]
     },
     "metadata": {},
     "output_type": "display_data"
    }
   ],
   "source": [
    "display(VBox([controls1, output1]))"
   ]
  },
  {
   "cell_type": "markdown",
   "metadata": {},
   "source": [
    "### Gráfica de Levenspiel para dos reactores en serie\n",
    "\n",
    "Ejecute el siguiente código y explore cómo varía el volumen de cada reactor y el volumen global (suma de los volúmenes de todos los reactores) para dos reactores dispuestos en serie cuando se cambia: \n",
    "\n",
    "- El tipo de cada reactor (CSTR, PFR)\n",
    "- La conversión deseada a la salida de cada reactor $X_{A1}$ y $X_{A2}$\n",
    "- La cinética de reacción\n",
    "- La constante cinética $k$"
   ]
  },
  {
   "cell_type": "code",
   "execution_count": 5,
   "metadata": {
    "scrolled": true,
    "slideshow": {
     "slide_type": "fragment"
    }
   },
   "outputs": [
    {
     "data": {
      "application/vnd.jupyter.widget-view+json": {
       "model_id": "f2bb2ccaf14e481a98f0ffa210d0998e",
       "version_major": 2,
       "version_minor": 0
      },
      "text/plain": [
       "VBox(children=(HBox(children=(Dropdown(description='Reactor1', options=('CSTR', 'PFR'), value='CSTR'), Dropdow…"
      ]
     },
     "metadata": {},
     "output_type": "display_data"
    }
   ],
   "source": [
    "display(VBox([controls2, output2]))"
   ]
  },
  {
   "cell_type": "markdown",
   "metadata": {},
   "source": [
    "### Gráfica de Levenspiel para tres reactores en serie\n",
    "\n",
    "Ejecute el siguiente código y explore cómo varía el volumen de cada reactor y el volumen global (suma de los volúmenes de todos los reactores) para tres reactores dispuestos en serie cuando se cambia: \n",
    "\n",
    "- El tipo de cada reactor (CSTR, PFR)\n",
    "- La conversión deseada a la salida de cada reactor $X_{A1}$, $X_{A2}$ y $X_{A3}$\n",
    "- La cinética de reacción\n",
    "- La constante cinética $k$"
   ]
  },
  {
   "cell_type": "code",
   "execution_count": 6,
   "metadata": {
    "scrolled": true,
    "slideshow": {
     "slide_type": "fragment"
    }
   },
   "outputs": [
    {
     "data": {
      "application/vnd.jupyter.widget-view+json": {
       "model_id": "e1380afeb1dd47d59f5d6b7f0c3f0e33",
       "version_major": 2,
       "version_minor": 0
      },
      "text/plain": [
       "VBox(children=(HBox(children=(Dropdown(description='Reactor1', options=('CSTR', 'PFR'), value='CSTR'), Dropdow…"
      ]
     },
     "metadata": {},
     "output_type": "display_data"
    }
   ],
   "source": [
    "display(VBox([controls3, output3]))"
   ]
  },
  {
   "cell_type": "markdown",
   "metadata": {
    "slideshow": {
     "slide_type": "skip"
    }
   },
   "source": [
    "## Bibliografía - Otros recursos\n",
    "\n",
    "- H. S. Fogler, *Elements of Chemical Reaction Engineering*, 4th ed., Prentice Hall, 2005.\n",
    "- J. Kantor, *[Introduction to Chemical Engineering Analysis](https://github.com/jckantor/CBE20255)*, curso CBE 20255, Universidad de Notre Dame, Indiana, EE.UU.\n",
    "- [LearnChemE](http://www.learncheme.com/simulations)\n",
    "- [Computer Aided Chemical Engineering](https://github.com/CAChemE)"
   ]
  }
 ],
 "metadata": {
  "kernelspec": {
   "display_name": "Python 3",
   "language": "python",
   "name": "python3"
  },
  "language_info": {
   "codemirror_mode": {
    "name": "ipython",
    "version": 3
   },
   "file_extension": ".py",
   "mimetype": "text/x-python",
   "name": "python",
   "nbconvert_exporter": "python",
   "pygments_lexer": "ipython3",
   "version": "3.7.4"
  }
 },
 "nbformat": 4,
 "nbformat_minor": 2
}
