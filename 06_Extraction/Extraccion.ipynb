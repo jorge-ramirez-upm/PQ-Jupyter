{
 "cells": [
  {
   "cell_type": "markdown",
   "metadata": {},
   "source": [
    "<img style=\"float: right;\" src=\"img/Esquema.png\" width=\"400\">\n",
    "\n",
    "<figure>\n",
    "    <a href=\"http://www.upm.es\">\n",
    "    <img style=\"float: right;\" src=\"img/UPMLogo.png\" width=\"100\">\n",
    "    </a>\n",
    "</figure>\n",
    "\n",
    "<b><font size=\"6\">Chemical Processes</font></b>\n",
    "\n",
    "<b><font size=\"6\">Liquid-Liquid Extraction</font></b>\n",
    "\n",
    "© **[Jorge Ramírez](http://blogs.upm.es/compsoftmatter/)**, **[Universidad Politécnica de Madrid](http://www.upm.es)**, 2022"
   ]
  },
  {
   "cell_type": "markdown",
   "metadata": {},
   "source": [
    "# Introduction\n",
    "The **liquid-liquid extraction** is a separation operation via mass transfer in which a chemical species (solute **C**) passes from a liquid phase **A** to another liquid phase **B**. For the operation to be profitable the following conditions should be met:\n",
    "\n",
    "- Liquid **B** must have a higher affinity for solute **C** than liquid **A** has.\n",
    "- Liquids **A** and **B** must be immiscible or partially miscible.\n",
    "\n",
    "In this unit we will review some basic concepts about the representation of mixtures in ternary diagrams, which we will use to solve liquid-liquid extraction problems that frequently appear in Chemical Engineering.\n",
    "\n",
    "We begin by loading some of the libraries that we will use in this presentation. The codes inside the `extraccion.py` file have been written specifically for this exercise. You can inspect the contents of the file to see the implementation details. \n",
    "\n",
    "Execute the following code to load the necessary libraries (select the cell and press `Shift + Enter`). "
   ]
  },
  {
   "cell_type": "code",
   "execution_count": 2,
   "metadata": {
    "init_cell": true
   },
   "outputs": [],
   "source": [
    "from extraccion import *"
   ]
  },
  {
   "cell_type": "markdown",
   "metadata": {},
   "source": [
    "# Three-component mixtures and ternary plots\n",
    "\n",
    "The extraction processes involve three substances: the liquid **A**, from which we want to extract the solute **C**, and the liquid **B** which we use as solvent. The composition of the system is completely determined by two of the three mole or mass fractions of the substances, since at all times the following must be true:\n",
    "\n",
    "\\begin{equation}\n",
    "x_A + x_B + x_C = 1\n",
    "\\label{eq:fracc}\n",
    "\\end{equation}\n",
    "\n",
    "The same relation is true if we work with mass fractions ($w_A + w_B + w_C = 1$). If the composition of the system is given in %, then the relation becomes $x_A + x_B + x_C = 100$. Therefore, since we only need 2 of the 3 compositions, the composition of a three-component system can be determined using a 2D plane (unlike binary mixtures, where the composition can be determined entirely using a 1D line, since knowing the mole fraction of one of the two substances is sufficient).\n",
    "\n",
    "Instead of using a plane with typical Cartesian axes, it is common to use **triangular or ternary plots** to represent mixtures of three compounds. In this diagram the lines of the axes form an angle of 60° (instead of the 90° they form in a diagram with Cartesian axes) and the complete diagram consists of an equilateral triangle.\n",
    "\n",
    "A ternary plot is characterized by:\n",
    "\n",
    "- Each of the three vertices of the triangle represents each of the three pure compounds. That is, vertex **A** represents a mixture whose composition is 100% **A** and 0% of **B** and **C**.\n",
    "\n",
    "- All points on the edge and inside the triangle represent mixtures whose composition satisfies eq. \\eqref{eq:fracc}. \n",
    "\n",
    "- The compositions of the three compounds in the mixture can be read by drawing lines parallel to the sides of the triangle and reading the values of the axes. Specifically, to read the composition of compound **A**, we will have to draw a line parallel to the opposite side of the vertex representing compound **A**.\n",
    "\n",
    "- The identity of the substances that are part of the mixture can be represented both on the vertices of the triangle and on the side indicating their composition in fraction or % (molar or mass).\n",
    "\n",
    "<img src=\"img/VertexvsSides.png\" width=\"400\">\n",
    "\n",
    "- Caution should be taken, as there are triangular diagrams in which the values of the axes grow counterclockwise (the most common) and diagrams in which the values grow clockwise.\n",
    "<img src=\"img/ClockWise.png\" width=\"400\">\n",
    "\n",
    "Below is an exercise to practice reading points on a triangular diagram of three composites **A**, **B** and **C**. Run the following code and vary the values of the composites of **A** and **B** in % (respecting that their sum is never greater than 100%), and select a direction of the axes. Note how the point is represented in the diagram and how the compositions are read. Note also how, although the position of the point on the diagram does not change when the direction of the axes is changed, the way in which the compositions are read on the axes does change. For clarity, the labels of compounds **A**, **B** and **C** are shown both on the vertices and on the sides indicating their respective composition. Note that, in real diagrams, these labels will only appear in one of the two places."
   ]
  },
  {
   "cell_type": "code",
   "execution_count": 3,
   "metadata": {
    "init_cell": true
   },
   "outputs": [
    {
     "data": {
      "application/vnd.jupyter.widget-view+json": {
       "model_id": "35a84a65942848a29eac32c29c1b51f0",
       "version_major": 2,
       "version_minor": 0
      },
      "text/plain": [
       "VBox(children=(HBox(children=(BoundedFloatText(value=30.0, description='$x_A$ (%)', step=1.0), BoundedFloatTex…"
      ]
     },
     "metadata": {},
     "output_type": "display_data"
    }
   ],
   "source": [
    "display(VBox([controlsternary, outputternary]))"
   ]
  },
  {
   "cell_type": "markdown",
   "metadata": {},
   "source": [
    "In the following examples, for simplicity of discussion, we will only show diagrams in which the axes grow **counterclockwise**, the compositions are shown **in percent %** and **the identity of the compounds is indicated on the sides of the triangular diagram**."
   ]
  },
  {
   "cell_type": "markdown",
   "metadata": {},
   "source": [
    "# Mixture of two solutions and lever rule\n",
    "\n",
    "When two ternary solutions of flow rates $F_1$ and $F_2$ and compositions given by $(x_{A1}, x_{B1})$ and $(x_{A2}, x_{B2})$ are mixed, it is very easy to determine the flow rate $F_M$ and the composition $(x_{AM}, x_{BM})$ of the resulting mixture by solving a simple mass balance:\n",
    "\n",
    "\\begin{equation}\n",
    "\\begin{array}{rl}\n",
    "F_M = & F_1 + F_2 \\\\ \n",
    "x_{AM} F_M = & x_{A1}F_1 + x_{A2} F_2 \\\\\n",
    "x_{BM} F_M = & x_{B1}F_1 + x_{B2} F_2\n",
    "\\end{array}\n",
    "\\label{eq:massbalance}\n",
    "\\end{equation}\n",
    "\n",
    "Using algebra with the above equations, it is easy to get:\n",
    "\\begin{equation}\n",
    "x_{BM} =  x_{B1} + (x_{AM}-x_{A1})\\frac{x_{B2}-x_{B1}}{x_{A2}-x_{A1}}\n",
    "\\label{eq:massbalancerecta}\n",
    "\\end{equation}\n",
    "which is the equation of a line passing through the points $(x_{A1}, x_{B1})$ and $(x_{A2}, x_{B2})$. That is, the **composition** $(x_{AM}, x_{BM})$ of the **mixing** point $M$ is always located on the **line joining the points of the two solutions 1 and 2 that have been mixed**..\n",
    "\n",
    "Similarly, operating with the mass balance equations \\eqref{eq:massbalance} it is possible to derive the following relations:\n",
    "\\begin{equation}\n",
    "\\begin{array}{rl}\n",
    "F_1(x_{AM}-x_{A1}) = & F_2(x_{A2}-x_{AM})  \\\\ \n",
    "F_1(x_{BM}-x_{B1}) = & F_2(x_{B2}-x_{BM})  \n",
    "\\end{array}\n",
    "\\label{eq:masslever}\n",
    "\\end{equation}\n",
    "which represent the famous **lever rule**. This means that the mixing point will be located as if it were the fulcrum of a lever that balances the flow rates $F_1$ and $F_2$.\n",
    "\n",
    "<img src=\"img/lever.png\" width=\"400\">\n",
    "\n",
    "In the following example, a triangular diagram is shown in which the compositions and flow rates of two streams 1 and 2 can be modified. Note how the position of the mixing point $M$ changes according to the selected values, and see how it is always on the straight line joining points 1 and 2, always respecting the lever rule."
   ]
  },
  {
   "cell_type": "code",
   "execution_count": 4,
   "metadata": {
    "init_cell": true
   },
   "outputs": [
    {
     "data": {
      "application/vnd.jupyter.widget-view+json": {
       "model_id": "a3876c9621144aaab5d1bb2337fd3564",
       "version_major": 2,
       "version_minor": 0
      },
      "text/plain": [
       "VBox(children=(HBox(children=(BoundedFloatText(value=100.0, description='$F_1$ (mol/s)', max=300.0, step=10.0)…"
      ]
     },
     "metadata": {},
     "output_type": "display_data"
    }
   ],
   "source": [
    "display(VBox([controlslever, outputlever]))"
   ]
  },
  {
   "cell_type": "markdown",
   "metadata": {},
   "source": [
    "# Solubility or binodal curve\n",
    "\n",
    "In ternary plots where the solubility is not perfect between the three compounds of the mixture in all compositions, different regions appear. The **solubility curve** or **binodal** represents the boundary between the region of the diagram where there is a homogeneous mixture (there is only one phase) and the area of the diagram where the mixture is heterogeneous (there is a separation into two phases of different composition). In order to be able to perform the extraction operation it is **very important that the mixing point** resulting from combining the feed and the solvent (see below) lies **within the area delimited by the binodal curve**.\n",
    "\n",
    "In the following example, a ternary diagram is shown for separating ethanoic acid from water, using ethyl ethanoate as solvent. The area enclosed by the binodal curve is displayed in orange. Check how, by changing the composition of the $M$ point, it moves into or out of the biphasic zone, making it possible or impossible, respectively, to carry out the liquid-liquid extraction operation."
   ]
  },
  {
   "cell_type": "code",
   "execution_count": 5,
   "metadata": {
    "init_cell": true
   },
   "outputs": [
    {
     "data": {
      "application/vnd.jupyter.widget-view+json": {
       "model_id": "23825e606d004d0e866ebf24034a945f",
       "version_major": 2,
       "version_minor": 0
      },
      "text/plain": [
       "VBox(children=(HBox(children=(BoundedFloatText(value=30.0, description='$x_{AM}$ (%)', step=1.0), BoundedFloat…"
      ]
     },
     "metadata": {},
     "output_type": "display_data"
    }
   ],
   "source": [
    "display(VBox([controlsbinodal, outputbinodal]))"
   ]
  },
  {
   "cell_type": "markdown",
   "metadata": {},
   "source": [
    "It is important to note that, although in the examples used in this exercise and in most of the class notes, the triangular diagram is arranged in such a way that the substance to be extracted (the solute) is always located at the upper vertex of the equilateral triangle, since this is the most common arrangement, this situation does not always have to be the case. It is important to be fluent in ternary diagrams in order to be able to solve problems in which the arrangement of the substances in the diagram is different from the usual one and in which the binodal curve has different geometries."
   ]
  },
  {
   "cell_type": "markdown",
   "metadata": {},
   "source": [
    "# Distribution lines\n",
    "\n",
    "When a given mixture lies within the area enclosed by the binodal curve, phase separation occurs. The solution separates into two phases (or solutions) with different compositions. Due to the difference in density of the two phases, they can be easily separated by gravity or other mechanical means.\n",
    "\n",
    "In ternary diagrams, the compositions of the two phases formed can be determined using the **distribution lines**. The distribution lines join two points on the binodal curve. Any point $M$ located on a partition line will separate into two solutions with compositions given by the points $E$ and $R$ (of **Extract** and **Raffinate**, to be defined in the next section) located at the ends of the distribution line. \n",
    "\n",
    "Theoretically, a line passes through each point of the entire area enclosed by the binodal curve. To avoid having diagrams full of lines and difficult to interpret, only a small number of lines are usually specified. In these cases, proceed as follows:\n",
    "\n",
    "- If the point $M$ coincides with a distribution line, then it is easy to find the compositions $E$ and $R$ of the two phases that are generated, simply by taking the ends of the distribution line.\n",
    "\n",
    "- If point $M$ does not coincide with a distribution line, interpolate between the lines closest to the point to obtain the distribution line passing through point $M$. This procedure can be misleading, so it must be done carefully.\n",
    "\n",
    "In the following example, the same ternary plot as above is shown, with a series of previously defined lines of distribution. Modify the composition of point $M$ to lie within the area enclosed by the binodal curve and observe how the distribution line is constructed and the compositions of points $R$ and $E$, corresponding to the two phases that are generated, are determined."
   ]
  },
  {
   "cell_type": "code",
   "execution_count": 6,
   "metadata": {
    "init_cell": true
   },
   "outputs": [
    {
     "data": {
      "application/vnd.jupyter.widget-view+json": {
       "model_id": "00f24811c4ac4ab59ecd3206a9f8ae01",
       "version_major": 2,
       "version_minor": 0
      },
      "text/plain": [
       "VBox(children=(HBox(children=(BoundedFloatText(value=30.0, description='$x_A$ (%)', step=1.0), BoundedFloatTex…"
      ]
     },
     "metadata": {},
     "output_type": "display_data"
    }
   ],
   "source": [
    "display(VBox([controlsreparto, outputreparto]))"
   ]
  },
  {
   "cell_type": "markdown",
   "metadata": {},
   "source": [
    "# Simple liquid-liquid extraction operation\n",
    "\n",
    "<img style=\"float: right;\" src=\"img/UnaEtapa.png\" width=\"350\">\n",
    "\n",
    "The simplest case of liquid-liquid extraction operation consists of a single step. In simplified form, one wishes to extract a solute $C$ from a solution in which the majority solvent is $A$ (either because one wishes to decontaminate $A$ or because one wishes to purify $C$). For this purpose, a solvent $B$ that has a higher affinity for the solute $C$ than $A$ is used (see the attached picture).\n",
    "\n",
    "At the output of the process, two streams are obtained:\n",
    "\n",
    "- **Raffinate**: Stream in which $A$ is the majority compound. Under ideal conditions (see figure) pure $A$ would be obtained but, as we shall see later, this is practically impossible to achieve in a simple operation.\n",
    "\n",
    "- **Extract**: Stream in which $B$ is the majority compound. Under ideal conditions (see figure) all the solute $C$ present in the feed would be extracted without extracting any of $A$. Again, as we shall see, this is a very difficult result to achieve in a simple extraction.\n",
    "\n",
    "To solve this problem, we will use ternary plots."
   ]
  },
  {
   "cell_type": "markdown",
   "metadata": {},
   "source": [
    "## Solution of a simple extraction operation\n",
    "\n",
    "The graphic procedure consists of the following steps:\n",
    "\n",
    "1) Locate point $F$ (corresponding to the feed) on the diagram. Typically, this stream contains only $A$ and $C$ so point $F$ will be located on the side of the triangle joining the vertices representing 100% of $A$ and 100% of $C$. Actually, the feed may be a ternary mixture and the point may be in the interior of the diagram.\n",
    "\n",
    "2) Place the point $S$ (corresponding to the solvent) on the diagram. Typically, the solvent is pure and therefore the point $S$ will be located at the vertex of the triangle representing 100% solvent.\n",
    "\n",
    "3) Join points $F$ and $S$ with a straight line. \n",
    "\n",
    "4) Knowing the flow rates of $F$ and $S$, solve the mass balance or apply the lever rule to locate on the above line the point $M$ representative of the composition of the mixture of the streams $F$ and $S$. \n",
    "\n",
    "5) If point $M$ lies within the area enclosed by the binodal curve, draw the distribution line passing through point $M$, either by taking one of the existing lines in the plot or by interpolating between the nearest lines. \n",
    "\n",
    "6) At the two extremes of the distribution line, place the points $R$ (raffinate, richer in $A$) and $E$ (extract, richer in $B$).\n",
    "\n",
    "7) Knowing the compositions of $M$, $R$ and $E$, solve the balance of mass or apply the lever rule to calculate the flow rates of the streams $R$ and $E$.\n",
    "\n",
    "In the following example, simple liquid-liquid extraction of ethanoic acid from water is performed using ethyl ethanoate as solvent. The feed, of flow rate $F$ (in mol/s) contains only water and ethanoic acid (whose molar percentage is $x_F$). The solvent is pure ethyl ethanoate and has a flow rate $S$ (in mol/s).\n",
    "\n",
    "Check how, as the 3 variables of the problem are modified, the solution is constructed. Check the results obtained."
   ]
  },
  {
   "cell_type": "code",
   "execution_count": 7,
   "metadata": {
    "init_cell": true
   },
   "outputs": [
    {
     "data": {
      "application/vnd.jupyter.widget-view+json": {
       "model_id": "da0ac48e879b4981ba368743b5edf295",
       "version_major": 2,
       "version_minor": 0
      },
      "text/plain": [
       "VBox(children=(HBox(children=(BoundedFloatText(value=30.0, description='$x_F$ (%)', min=1.0, step=1.0), Bounde…"
      ]
     },
     "metadata": {},
     "output_type": "display_data"
    }
   ],
   "source": [
    "display(VBox([controlsextraccionsimple, outputextraccionsimple]))"
   ]
  },
  {
   "cell_type": "code",
   "execution_count": null,
   "metadata": {},
   "outputs": [],
   "source": []
  }
 ],
 "metadata": {
  "celltoolbar": "Initialization Cell",
  "kernelspec": {
   "display_name": "Python 3 (ipykernel)",
   "language": "python",
   "name": "python3"
  },
  "language_info": {
   "codemirror_mode": {
    "name": "ipython",
    "version": 3
   },
   "file_extension": ".py",
   "mimetype": "text/x-python",
   "name": "python",
   "nbconvert_exporter": "python",
   "pygments_lexer": "ipython3",
   "version": "3.7.4"
  },
  "toc": {
   "base_numbering": 1,
   "nav_menu": {},
   "number_sections": true,
   "sideBar": true,
   "skip_h1_title": false,
   "title_cell": "Table of Contents",
   "title_sidebar": "Contents",
   "toc_cell": false,
   "toc_position": {},
   "toc_section_display": true,
   "toc_window_display": false
  }
 },
 "nbformat": 4,
 "nbformat_minor": 4
}
