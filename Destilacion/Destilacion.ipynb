{
 "cells": [
  {
   "cell_type": "markdown",
   "metadata": {
    "slideshow": {
     "slide_type": "slide"
    }
   },
   "source": [
    "<img style=\"float: right;\" src=\"img/column.png\" width=\"250\">\n",
    "\n",
    "<figure>\n",
    "    <a href=\"http://www.upm.es\">\n",
    "    <img style=\"float: right;\" src=\"img/UPMLogo.png\" width=\"100\">\n",
    "    </a>\n",
    "</figure>\n",
    "\n",
    "<b><font size=\"6\">Destilación fraccionada: Método de McCabe-Thiele</font></b>\n",
    "\n",
    "© **[Jorge Ramírez](http://blogs.upm.es/compsoftmatter/)**, **[Universidad Politécnica de Madrid](http://www.upm.es)**, 2020"
   ]
  },
  {
   "cell_type": "markdown",
   "metadata": {
    "slideshow": {
     "slide_type": "slide"
    }
   },
   "source": [
    "# Introducción\n",
    "\n",
    "En esta unidad vamos a repasar algunos conceptos básicos sobre presión de vapor y volatilidad de sustancias puras y **mezclas binarias ideales**. Después, utilizaremos esa información para resolver dos problemas de destilación que aparecen con frecuencia en Ingeniería Química:\n",
    "\n",
    "- Destilación Flash\n",
    "- Destilación fraccionada"
   ]
  },
  {
   "cell_type": "markdown",
   "metadata": {
    "slideshow": {
     "slide_type": "fragment"
    }
   },
   "source": [
    "Comenzamos cargando algunas de las librerías que utilizaremos en esta presentación. Los códigos dentro del fichero `destilacion.py` han sido escritos expresamente para este ejercicio. Se puede inspeccionar el contenido del fichero para ver los detalles de la implementación. \n",
    "\n",
    "Ejecute el siguiente código para cargar las librerías necesarias (seleccione la celda y presione `Shift + Enter`). "
   ]
  },
  {
   "cell_type": "code",
   "execution_count": 2,
   "metadata": {
    "slideshow": {
     "slide_type": "fragment"
    }
   },
   "outputs": [],
   "source": [
    "from destilacion import *"
   ]
  },
  {
   "cell_type": "markdown",
   "metadata": {
    "slideshow": {
     "slide_type": "slide"
    }
   },
   "source": [
    "# Presión de Vapor de sustancias puras: Ecuación de Antoine\n",
    "\n",
    "La ecuación de Antoine es una correlación semi-empírica que describe la dependencia de la presión de vapor con la temperatura para líquidos puros. Está dada por la expresión:\n",
    "\n",
    "\\begin{equation}\n",
    "\\log_{10} p^0=A-\\frac{B}{C+T}\n",
    "\\label{eq:Antoine}\n",
    "\\end{equation}\n",
    "\n",
    "Donde $A$, $B$ y $C$ tienen valores constantes que dependen de la sustancia que se esté considerando. Típicamente, la ecuación de Antoine está definida para un determinado intervalo de temperatura $[T_1, T_2]$ y es importante no salirse de dicho intervalo. En esta presentación, no tendremos en cuenta dichos intervalos de validez.\n",
    "\n",
    "En este ejercicio, hemos tomado de la base de datos de **[DDBST](http://ddbonline.ddbst.com/AntoineCalculation/AntoineCalculationCGI.exe)** los valores de las constantes de la ecuación de Antoine para una serie de sustancias.\n",
    "\n",
    "A continuación, comparamos cómo varía la presión de vapor de dos sustancias escogidas con respecto a la temperatura. Ejecute el siguiente código y modifique las sustancias de las dos listas desplegables para comparar sus respectivas volatilidades en función de la temperatura. Observe como las volatilidades relativas entre dos líquidos diferentes se pueden relacionar con su estructura química y las interacciones intermoleculares predominantes en cada sustancia. "
   ]
  },
  {
   "cell_type": "code",
   "execution_count": 3,
   "metadata": {
    "slideshow": {
     "slide_type": "skip"
    }
   },
   "outputs": [
    {
     "data": {
      "application/vnd.jupyter.widget-view+json": {
       "model_id": "e886a2388bcd4739850e926b1fc62e1e",
       "version_major": 2,
       "version_minor": 0
      },
      "text/plain": [
       "VBox(children=(HBox(children=(Dropdown(description='FluidoA', options=('Acetona', 'Acetonitrilo', 'Acido Aceti…"
      ]
     },
     "metadata": {},
     "output_type": "display_data"
    }
   ],
   "source": [
    "display(VBox([controlsvolatility, outputvolatility]))"
   ]
  },
  {
   "cell_type": "markdown",
   "metadata": {
    "slideshow": {
     "slide_type": "subslide"
    }
   },
   "source": [
    "# Punto de ebullición de líquidos puros\n",
    "\n",
    "A partir de la **presión de vapor**, se puede determinar la **temperatura de ebullición** de un fluido puro como aquella temperatura $T$ a la que su presión de vapor se hace igual a la presión exterior. Podemos buscar dicha solución resolviendo la ecuación de Antoine \\eqref{eq:Antoine}, utilizando la función **fsolve** de Python). Dependiendo de la volatilidad de cada sustancia, el cambio de la presión exterior afectará en mayor o menor medida al punto de ebullición.\n",
    "\n",
    "Ejecute el siguiente código para calcular el punto de ebullición de cualquiera de los líquidos de nuestra librería. Observe como los cambios de presión afectan de forma diferente a cada uno de los fluidos.\n"
   ]
  },
  {
   "cell_type": "code",
   "execution_count": 4,
   "metadata": {
    "slideshow": {
     "slide_type": "skip"
    }
   },
   "outputs": [
    {
     "data": {
      "application/vnd.jupyter.widget-view+json": {
       "model_id": "261c6cd038554242896881bb67e17340",
       "version_major": 2,
       "version_minor": 0
      },
      "text/plain": [
       "VBox(children=(HBox(children=(Dropdown(description='Fluido', index=3, options=('Acetona', 'Acetonitrilo', 'Aci…"
      ]
     },
     "metadata": {},
     "output_type": "display_data"
    }
   ],
   "source": [
    "display(VBox([controlsTeb, outputTeb]))"
   ]
  },
  {
   "cell_type": "markdown",
   "metadata": {
    "slideshow": {
     "slide_type": "subslide"
    }
   },
   "source": [
    "También podemos comparar, de forma gráfica, las temperaturas de ebullición de dos fluidos diferentes en función de la Presión exterior (en atmósferas):"
   ]
  },
  {
   "cell_type": "code",
   "execution_count": 4,
   "metadata": {
    "slideshow": {
     "slide_type": "skip"
    }
   },
   "outputs": [
    {
     "data": {
      "application/vnd.jupyter.widget-view+json": {
       "model_id": "7242adb547e24f3e8db7edd1e84b5574",
       "version_major": 2,
       "version_minor": 0
      },
      "text/plain": [
       "VBox(children=(HBox(children=(Dropdown(description='FluidoA', options=('Acetona', 'Acetonitrilo', 'Acido Aceti…"
      ]
     },
     "metadata": {},
     "output_type": "display_data"
    }
   ],
   "source": [
    "display(VBox([controlsTeb2, outputTeb2]))"
   ]
  },
  {
   "cell_type": "markdown",
   "metadata": {
    "slideshow": {
     "slide_type": "slide"
    }
   },
   "source": [
    "# Mezclas binarias ideales: Ley de Raoult y diagrama P-x\n",
    "\n",
    "La **ley de Raoult** supone que, en una **mezcla ideal** de dos líquidos, la presión de vapor de cada uno de los componentes de la mezcla es **proporcional** a su **fracción molar** dentro de la disolución:\n",
    "\n",
    "\\begin{equation}\n",
    "p_i = p_i^0 x_i\n",
    "\\label{eq:Raoult}\n",
    "\\end{equation}\n",
    "\n",
    "Utilizando esta definición, podemos representar la presión de vapor de una mezcla binaria de dos sustancias A y B. Ejecute el siguiente código para explorar cómo se comportaría la presión de vapor de una mezcla ideal de dos de los líquidos puros de nuestra librería. \n",
    "\n",
    "**NOTA**: Observe cómo, en las mezclas ideales de Etanol y Acetona o de Etanol y Acetonitrilo, la volatilidad relativa de los dos líquidos se invierte al cambiar la temperatura.\n",
    "\n",
    "**NOTA**: En realidad, las mezclas no suelen ser ideales y suelen presentar desviaciones con respecto a la ley de Raoult. **En este ejercicio, consideraremos que todas las mezclas son ideales**. Por tanto, algunos diagramas (por ejemplo el diagrama Agua-Etanol) no mostrarán puntos singulares como azeótropos."
   ]
  },
  {
   "cell_type": "code",
   "execution_count": 5,
   "metadata": {
    "slideshow": {
     "slide_type": "skip"
    }
   },
   "outputs": [
    {
     "data": {
      "application/vnd.jupyter.widget-view+json": {
       "model_id": "6d7995881dfa454cb3fce34a439d1b7c",
       "version_major": 2,
       "version_minor": 0
      },
      "text/plain": [
       "VBox(children=(HBox(children=(Dropdown(description='FluidoA', options=('Acetona', 'Acetonitrilo', 'Acido Aceti…"
      ]
     },
     "metadata": {},
     "output_type": "display_data"
    }
   ],
   "source": [
    "display(VBox([controlsRaoult, outputRaoult]))"
   ]
  },
  {
   "cell_type": "markdown",
   "metadata": {
    "slideshow": {
     "slide_type": "slide"
    }
   },
   "source": [
    "# Diagramas T-xy: Destilación Flash\n",
    "\n",
    "<img style=\"float: right;\" src=\"img/Vap-Liq_Separator.png\" width=\"200\">\n",
    "\n",
    "La **destilación Flash** es una **operación unitaria** en la que una **mezcla líquida saturada** se introduce en un tanque a **menor presión**, en el que se separa en dos fases, un vapor y un líquido enriquecidos en el componente más volátil y menos volátil, respectivamente. La presión $p$ y temperatura $T$ dentro del tanque se deben elegir cuidadosamente para optimizar la separación.\n",
    "\n",
    "El punto de ebullición de la mezcla líquida binaria será la temperatura a la que la presión de vapor de la mezcla se haga igual a la presión exterior. \n",
    "\n",
    "\\begin{equation}\n",
    "p_{ext} = p_A^0(T)x_A + p_B^0(T)(1-x_A)\n",
    "\\label{eq:pext_p0}\n",
    "\\end{equation}\n",
    "\n",
    "Si conocemos la temperatura $T$, podemos determinar la composición de la mecla que tendrá dicha temperatura de ebullición. Despejando $x_A$ de la ecuación \\eqref{eq:pext_p0}:\n",
    "\\begin{equation}\n",
    "x_A = \\frac{p_{ext}-p_B^0(T)}{p_A^0(T)-p_B^0(T)},\n",
    "\\label{eq:x_A_pext_p0}\n",
    "\\end{equation}\n",
    "así comola composición del vapor que se desprenderá a esa temperatura (utilizando la **ley de Dalton**):\n",
    "\n",
    "\\begin{equation}\n",
    "y_A = \\frac{x_A p_A^0(T)}{p_{ext}}.\n",
    "\\label{eq:Dalton}\n",
    "\\end{equation}"
   ]
  },
  {
   "cell_type": "markdown",
   "metadata": {
    "slideshow": {
     "slide_type": "subslide"
    }
   },
   "source": [
    "Primero, vamos a explorar qué forma tienen los diagramas **T-xy** (temperatura-composición de líquido y vapor) para mezclas ideales de fluidos, en función de la presión $p$ dentro del destilador y de la composición de la mezcla.\n",
    "\n",
    "Ejecute el siguiente código y observe cómo el diagrama **T-xy** cambia en función de la volatilidad relativa de los dos componentes de la mezcla. Observe también como la zona de coexistencia líquido-vapor (el área encerrada entre las curvas L y V) se modifica al cambiar la presión $p$.\n",
    "\n",
    "**NOTA**: En los diagramas **T-xy**, la práctica común es seleccionar el Fluido A (el fluido con respecto al cual se muestra la fracción molar en el eje de abcisas) como el fluido más volátil de los dos de la mezcla."
   ]
  },
  {
   "cell_type": "code",
   "execution_count": 6,
   "metadata": {
    "slideshow": {
     "slide_type": "skip"
    }
   },
   "outputs": [
    {
     "data": {
      "application/vnd.jupyter.widget-view+json": {
       "model_id": "aeb990c3b1ae4068ace13e00ecac8f70",
       "version_major": 2,
       "version_minor": 0
      },
      "text/plain": [
       "VBox(children=(HBox(children=(Dropdown(description='FluidoA', options=('Acetona', 'Acetonitrilo', 'Acido Aceti…"
      ]
     },
     "metadata": {},
     "output_type": "display_data"
    }
   ],
   "source": [
    "display(VBox([controlsTx, outputTx]))"
   ]
  },
  {
   "cell_type": "markdown",
   "metadata": {
    "slideshow": {
     "slide_type": "subslide"
    }
   },
   "source": [
    "Con esa información, vamos a intentar **resolver un problema de destilación Flash** en el que conocemos: \n",
    "\n",
    "- Los dos fluidos A y B (intentaremos seleccionar A como el más volátil)\n",
    "- La composición $x_F$ (fracción molar) y caudal $F$ (mol/s) de la mezcla que se alimenta al destilador.\n",
    "- La Temperatura $T$ (º C) y presión $p$ (atm) dentro del destilador.\n",
    "\n",
    "Ejecute el siguiente código y explore cómo las composiciones de las corrientes de cabeza y fondo, así como las temperaturas de rocío y burbuja, varían al cambiar las condiciones de la alimentación y la presión a la que trabaja la columna. Para cada par de sustancias, se puede jugar con $p$, $T_F$ y/o $x_F$ para que la mezcla de entrada se encuentre en condiciones de coexistencia (la zona entre las curvas L y V) dentro del destilador."
   ]
  },
  {
   "cell_type": "code",
   "execution_count": 7,
   "metadata": {
    "scrolled": false,
    "slideshow": {
     "slide_type": "skip"
    }
   },
   "outputs": [
    {
     "data": {
      "application/vnd.jupyter.widget-view+json": {
       "model_id": "151e3d4f803a421e849301619e3d118d",
       "version_major": 2,
       "version_minor": 0
      },
      "text/plain": [
       "VBox(children=(HBox(children=(Dropdown(description='FluidoA', options=('Acetona', 'Acetonitrilo', 'Acido Aceti…"
      ]
     },
     "metadata": {},
     "output_type": "display_data"
    }
   ],
   "source": [
    "display(VBox([controlsFlash, outputFlash]))"
   ]
  },
  {
   "cell_type": "markdown",
   "metadata": {
    "slideshow": {
     "slide_type": "slide"
    }
   },
   "source": [
    "<img style=\"float: right;\" src=\"img/column.png\" width=\"250\">\n",
    "\n",
    "# Diagramas y-x: Destilación Fraccionada\n",
    "\n",
    "Mediante destilación Flash, no es posible la separación completa de los componentes de una mezcla ideal. Para ello, es necesario hacer uso de la destilación fraccionada. \n",
    "\n",
    "En este tipo de operación, es más práctico trabajar con el diagrama **y-x** (composición del vapor frente a composición del líquido, con respecto al componente más volátil). \n",
    "\n",
    "Podemos explorar el aspecto que tienen estos diagramas **y-x** para pares de fluidos de nuestra biblioteca (seleccionar el fluido **más volátil** como el **FluidoA**), en función de la presión a la que trabaja la columna.\n",
    "\n",
    "Ejecute el siguiente código y explore cómo el diagrama **y-x** en función de la pareja de fluidos seleccionada y de la presión a la que trabaja la columna.\n",
    "\n",
    "**NOTA**: Por favor, seleccione el fluido más volátil como Fluido A. La selección es correcta cuando la curva de coexistencia se encuentra por encima de la diagonal principal del diagrama.\n",
    "\n",
    "**NOTA**: Observe cómo la volatilidad relativa entre el Etanol y el Acetonitrilo se invierte a bajas presiones."
   ]
  },
  {
   "cell_type": "code",
   "execution_count": 8,
   "metadata": {
    "slideshow": {
     "slide_type": "skip"
    }
   },
   "outputs": [
    {
     "data": {
      "application/vnd.jupyter.widget-view+json": {
       "model_id": "8dff8e16b9ce4f409ff31627943ad21e",
       "version_major": 2,
       "version_minor": 0
      },
      "text/plain": [
       "VBox(children=(HBox(children=(Dropdown(description='FluidoA', options=('Acetona', 'Acetonitrilo', 'Acido Aceti…"
      ]
     },
     "metadata": {},
     "output_type": "display_data"
    }
   ],
   "source": [
    "display(VBox([controlsyx, outputyx]))"
   ]
  },
  {
   "cell_type": "markdown",
   "metadata": {
    "slideshow": {
     "slide_type": "subslide"
    }
   },
   "source": [
    "# Destilación fraccionada: método de McCabe y Thiele\n",
    "\n",
    "Se desea separar los componentes de una mezcla binaria ideal de composición $x_F$ (en el componente más volátil) en dos corrientes, una enriquecida en el componente más volátil ($x_D$) y otra empobrecida (de composición $x_B$).\n",
    "El método de McCabe y Thiele es un método gráfico que permite diseñar y dimensionar operaciones de destilación fraccionada de forma sencilla, intuitiva e instructiva. El método precisa que tracemos tres rectas en el diagrama **y-x**:\n",
    "\n",
    "- La **recta de alimentación**: pasa por el punto $(x_F, x_F)$ y la pendiente depende del estado en el que entra la alimentación a la columna (como líquido saturado, líquido subenfriado, vapor saturado, etc). \n",
    "\n",
    "- La **recta de operación de la zona de rectificación**: pasa por el punto  $(x_D, x_D)$ y proporciona la relación entre las composiciones del líquido que desciende desde un plato superior y la del vapor que asciende desde un plato inferior, en la zona de la columna por encima de la alimentación.\n",
    "\n",
    "- La **recta de operación de la zona de agotamiento**: pasa por el punto  $(x_B, x_B)$, igual que la anterior pero para la zona de la columna por debajo de la alimentación.\n",
    "\n",
    "A continuación, vamos a explorar cómo se construye el diagrama de McCabe-Thiele paso a paso, centrándonos en una mezcla de ácido acético y alcohol isopropílico y suponiendo que la columna trabaja a una presión de 2 atm."
   ]
  },
  {
   "cell_type": "markdown",
   "metadata": {
    "slideshow": {
     "slide_type": "subslide"
    }
   },
   "source": [
    "## Trazar la recta de alimentación\n",
    "\n",
    "Para trazar la recta de alimentación, o recta $q$, necesitamos saber la $T_{burbuja}$, $T_{rocio}$, $C_p$(L) y $C_p$(V) de cada fluido puro y $\\Delta H_{vap}$ de cada fluido puro. Estos valores ya están determinados para los fluidos de nuestra librería. Como se ha comentado más arriba, la recta de alimentación pasa por el punto $(x_F, x_F)$ y su pendiente depende del estado en el que entra la alimentación a la columna. Los detalles sobre cómo se calcula la recta $q$ se pueden encontrar en el documento subido a la plataforma de Moodle.\n",
    "\n",
    "En la siguiente aplicación, se puede observar cómo, para una mezcla de ácido acético y alcohol isopropílico, la recta $q$ en el diagrama **y-x** va cambiando en función de la composición de la alimentación y de la temperatura de la misma. Simultáneamente, se puede observar en el diagrama **T-xy** la condición térmica de la alimentación y situarla con respecto a las curvas de coexistencia Líquido-Vapor para la misma mezcla. Observe cómo:\n",
    "\n",
    "- Cuando la alimentación está subenfriada (punto $x_F$, $T_F$ por debajo de la zona de coexistencia líquido-vapor en el diagrama **T-xy**), la recta de alimentación tiene pendiente positiva\n",
    "\n",
    "- Cuando la alimentación entra en el punto de burbuja (punto $x_F$, $T_F$ en la curva de líquido en el diagrama **T-xy**), la recta de alimentación es vertical (pendiente $\\infty$).\n",
    "\n",
    "- Cuando la alimentación entra como mezcla líquido vapor (punto $x_F$, $T_F$ dentro de la zona de coexistencia líquido-vapor en el diagrama **T-xy**), la recta $q$ tiene pendiente negativa. Además, en este caso particular, la recta $q$ se puede determinar uniendo el punto $(x_F,x_F)$ con el punto $(x, y)$, siendo $x$ e $y$ las composiciones del líquido y el vapor, respectivamente, en equilibrio con la alimentación. Las composiciones $x$ e $y$ se pueden extraer del diagrama **T-xy**. \n",
    "\n",
    "- Cuando la alimentación entra en el punto de rocío (punto $x_F$, $T_F$ en la curva de vapor en el diagrama **T-xy**), la recta de alimentación es horizontal (pendiente 0).\n",
    "\n",
    "- Cuando la alimentación entra sobrecalentada (punto $x_F$, $T_F$ por encima de la zona de coexistencia líquido-vapor en el diagrama **T-xy**), la recta de alimentación tiene de nuevo pendiente positiva"
   ]
  },
  {
   "cell_type": "code",
   "execution_count": 9,
   "metadata": {},
   "outputs": [
    {
     "data": {
      "application/vnd.jupyter.widget-view+json": {
       "model_id": "c6f9f41677de4db8bf8d1e617e9cd13d",
       "version_major": 2,
       "version_minor": 0
      },
      "text/plain": [
       "VBox(children=(HBox(children=(BoundedFloatText(value=100.0, description='$T_F$ (°C)', max=150.0, min=100.0, st…"
      ]
     },
     "metadata": {},
     "output_type": "display_data"
    }
   ],
   "source": [
    "display(VBox([controlsFeed, outputFeed]))"
   ]
  },
  {
   "cell_type": "markdown",
   "metadata": {},
   "source": [
    "## Trazar la recta de operación de la zona de rectificación\n",
    "\n",
    "Una vez trazada la recta de alimentación, podemos construir la recta de operación de la zona de rectificación, que pasa por el punto $(x_D, x_D)$. Dicha recta se puede construir de dos formas:\n",
    "\n",
    "- con la pendiente $\\frac{R_{ext}}{1+R_{ext}}$\n",
    "\n",
    "- con el punto de corte $\\left( 0, \\frac{x_D}{1+R_{ext}}\\right)$.\n",
    "\n",
    "La relación de reflujo externa $R_{ext}\\ge 0$ determina la pendiente. El valor mínimo de $R_{ext}$ está determinado por el punto de corte de la recta de alimentación y la curva de equilibrio, como se puede observar en la aplicación siguiente.\n",
    "\n",
    "En el siguiente ejemplo, observe cómo se modifican:\n",
    "\n",
    "- la recta de alimentación al variar las condiciones de la alimentación $(x_F, T_F)$;\n",
    "\n",
    "- la recta de operación de la zona de rectificación al modificar la especificación de composición del destilado $x_D$ y la relación de reflujo externa $R_{ext}$.\n",
    "\n",
    "- la condición de reflujo mínimo $R_{ext,min}$ al modificar $x_F, T_F$ y $x_D$.\n",
    "\n",
    "Observe también cómo es necesario que $R_{ext}$ sea mayor que la relación de reflujo mínimo $R_{ext, min}$ para que la destilación sea posible."
   ]
  },
  {
   "cell_type": "code",
   "execution_count": 10,
   "metadata": {},
   "outputs": [
    {
     "data": {
      "application/vnd.jupyter.widget-view+json": {
       "model_id": "6ada255c3c954eeb9e55b20b29d8595c",
       "version_major": 2,
       "version_minor": 0
      },
      "text/plain": [
       "VBox(children=(HBox(children=(BoundedFloatText(value=100.0, description='$T_F$ (°C)', max=300.0, min=30.0, ste…"
      ]
     },
     "metadata": {},
     "output_type": "display_data"
    }
   ],
   "source": [
    "display(VBox([controlsFeedRectif, outputFeedRectif]))"
   ]
  },
  {
   "cell_type": "markdown",
   "metadata": {},
   "source": [
    "## Trazar la recta de operación de la zona de agotamiento\n",
    "\n",
    "Una vez trazadas las rectas de alimentación $q$ y de operación en la zona de rectificación (llamémosla $R_1$), trazar la recta de operación de la zona de agotamiento es muy sencillo. Se trata de unir el punto $(x_B, x_B)$ con el punto de intersección entre las rectas $q$ y $R_1$.\n",
    "\n",
    "En el siguiente ejemplo, se trazan todas las rectas necesarias para poder desarrollar el método de McCabe-Thiele en función de los parámetros $x_F$, $x_B$, $x_D$, $T_F$ y $R_{ext}$, para la mezcla de ácido acético y alcohol isopropílico a una presión de 2 atm. Observe cómo, cuando el reflujo es menor que el mínimo permitido, las líneas de operación se muestran en color rojo, lo que significa que la destilación no se puede llevar a cabo."
   ]
  },
  {
   "cell_type": "code",
   "execution_count": 11,
   "metadata": {
    "scrolled": false
   },
   "outputs": [
    {
     "data": {
      "application/vnd.jupyter.widget-view+json": {
       "model_id": "3f98f436bc1e4d3f9186ddf77e1b212c",
       "version_major": 2,
       "version_minor": 0
      },
      "text/plain": [
       "VBox(children=(HBox(children=(BoundedFloatText(value=100.0, description='$T_F$ (°C)', max=300.0, min=30.0, ste…"
      ]
     },
     "metadata": {},
     "output_type": "display_data"
    }
   ],
   "source": [
    "display(VBox([controlsAllLines, outputAllLines]))"
   ]
  },
  {
   "cell_type": "markdown",
   "metadata": {},
   "source": [
    "## Método de McCabe-Thiele paso a paso\n",
    "\n",
    "Una vez trazadas todas las rectas necesarias, se procede a determinar el nº de etapas de equilibrio necesarias para llevar a cabo la destilación fraccionada de acuerdo a la especificación. Para ello se parte del punto $(x_D, x_D)$ y se trazan escalones rectos que se apoyan alternativamente en la curva de equilibrio líquido vapor y en la recta de operación de la zona de rectificación o agotamiento, según corresponda. \n",
    "\n",
    "En el siguiente ejemplo, se puede resolver el problema paso a paso:\n",
    "\n",
    "- Seleccione unas condiciones de la mezcla de entrada en la columna $x_F$ y $T_F$.\n",
    "- Seleccione una especificación para las corrientes de salida $x_B$ y $x_D$.\n",
    "- Seleccione una relación de reflujo externo $R_{ext}$ mayor que la relación mínima fijada por las condiciones del problema (si no se cumple esta condición, la destilación no se puede llevar a cabo).\n",
    "- Incremente el nº de pasos progresivamente y observe cómo se va construyendo el diagrama de McCabe-Thiele etapa a etapa.\n",
    "- Cuando el nº de etapas sea suficiente para completar la destilación deseada, se mostrará la solución en el gráfico. Incrementar el nº de pasos por encima del nº de etapas de equilibrio necesarias, no afecta a la solución."
   ]
  },
  {
   "cell_type": "code",
   "execution_count": 12,
   "metadata": {},
   "outputs": [
    {
     "data": {
      "application/vnd.jupyter.widget-view+json": {
       "model_id": "8d7edb6d5cbc430b94a5f0e2a4491798",
       "version_major": 2,
       "version_minor": 0
      },
      "text/plain": [
       "VBox(children=(HBox(children=(BoundedFloatText(value=100.0, description='$T_F$ (°C)', max=300.0, min=30.0, ste…"
      ]
     },
     "metadata": {},
     "output_type": "display_data"
    }
   ],
   "source": [
    "display(VBox([controlsMcCabeStep, outputMcCabeStep]))"
   ]
  },
  {
   "cell_type": "markdown",
   "metadata": {
    "slideshow": {
     "slide_type": "subslide"
    }
   },
   "source": [
    "## Explorando el Método de McCabe-Thiele\n",
    "\n",
    "Una vez comprendido cómo las diversas variables y la especificación afectan a la resolución de un problema dedestilación fraccionada, podemos explorar cómo afectan los diferentes parámetros de la destilación al número de etapas necesarias para llevarla a cabo. Para ello, hay que seleccionar:\n",
    "\n",
    "- Fluidos que queremos separar (seleccione el **FluidoA** como el **más volátil** de los dos).\n",
    "- Especificación de la operación (composición de la alimentación $x_F$, composición de la corriente de destilado $x_D$ y de la de fondo $x_B$).\n",
    "- Relación de reflujo externa $R_{ext}$ a utilizar.\n",
    "- Temperatura a la que entra la alimentacion ($T_F$).\n",
    "- Presión a la que trabaja la columna ($p$).\n",
    "\n",
    "Ejecute el siguiente código y juegue con las variables para ver cómo van variando las condiciones de la columna de destilación.\n",
    "\n",
    "**NOTA**: Debido a la complejidad matemática de algunos casos, es posible que la aplicación se quede bloqueada. En ese caso, es recomendable reiniciar el intérprete de Python y volver a ejecutar todo. Para ello, seleccione la opción `Kernel/Restart & Run All` del menú.\n",
    "\n",
    "**NOTA**: Explore los siguientes dos casos extremos: \n",
    "\n",
    "- Mezcla Etanol + isopropyl-alcohol, $p$=0,1 atm, $T_F$=145 °C, $x_F$=0,64, $x_B$=0,01, $x_D$=0,92, $R_{ext}$=5. La destilación es muy complicada, debido a la volatilidad muy similar entre ambos fluidos en esas condiciones, y la destilación precisa de más de 150 etapas ideales.\n",
    "\n",
    "- Mezcla isopropyl-alcohol + Fenol, $p$=0,1 atm, $T_F$=60 °C, $x_F$=0,6, $x_B$=0,13, $x_D$=0,88, $R_{ext}$=0,2. La destilación es muy fácil, debido a la gran diferencia de volatilidad entre ambos fluidos en esas condiciones, y la destilación precisa solo de 1 etapa ideal."
   ]
  },
  {
   "cell_type": "code",
   "execution_count": 13,
   "metadata": {
    "slideshow": {
     "slide_type": "skip"
    }
   },
   "outputs": [
    {
     "data": {
      "application/vnd.jupyter.widget-view+json": {
       "model_id": "8410c6c2327640de8a64b491682f7298",
       "version_major": 2,
       "version_minor": 0
      },
      "text/plain": [
       "VBox(children=(HBox(children=(Dropdown(description='FluidoA', options=('Acetona', 'Acetonitrilo', 'Acido Aceti…"
      ]
     },
     "metadata": {},
     "output_type": "display_data"
    }
   ],
   "source": [
    "display(VBox([controlsMcCabe, outputMcCabe]))"
   ]
  },
  {
   "cell_type": "markdown",
   "metadata": {
    "slideshow": {
     "slide_type": "skip"
    }
   },
   "source": [
    "# Bibliografía - Otros Recursos\n",
    "\n",
    "- W.L. McCabe, J.C. Smith y P. Harriott, *Operaciones Unitarias en Ingeniería Química*, 7ª ed., McGraw Hill, 2007\n",
    "- J. Kantor, *[Introduction to Chemical Engineering Analysis](https://github.com/jckantor/CBE20255)*, curso CBE 20255, Universidad de Notre Dame, Indiana, EE.UU.\n",
    "- [LearnChemE](http://www.learncheme.com/simulations)"
   ]
  },
  {
   "cell_type": "code",
   "execution_count": null,
   "metadata": {},
   "outputs": [],
   "source": []
  }
 ],
 "metadata": {
  "kernelspec": {
   "display_name": "Python 3",
   "language": "python",
   "name": "python3"
  },
  "language_info": {
   "codemirror_mode": {
    "name": "ipython",
    "version": 3
   },
   "file_extension": ".py",
   "mimetype": "text/x-python",
   "name": "python",
   "nbconvert_exporter": "python",
   "pygments_lexer": "ipython3",
   "version": "3.7.4"
  },
  "toc": {
   "base_numbering": 1,
   "nav_menu": {},
   "number_sections": true,
   "sideBar": true,
   "skip_h1_title": false,
   "title_cell": "Tabla de contenido",
   "title_sidebar": "Destilación fraccionada",
   "toc_cell": false,
   "toc_position": {
    "height": "calc(100% - 180px)",
    "left": "10px",
    "top": "150px",
    "width": "256.506px"
   },
   "toc_section_display": true,
   "toc_window_display": true
  },
  "toc-autonumbering": true
 },
 "nbformat": 4,
 "nbformat_minor": 2
}
