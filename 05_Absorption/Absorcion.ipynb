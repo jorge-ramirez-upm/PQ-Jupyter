{
 "cells": [
  {
   "cell_type": "markdown",
   "metadata": {},
   "source": [
    "<img style=\"float: right;\" src=\"img/ColumnaAbsorcion.png\" width=\"250\">\n",
    "\n",
    "<figure>\n",
    "    <a href=\"http://www.upm.es\">\n",
    "    <img style=\"float: right;\" src=\"img/UPMLogo.png\" width=\"100\">\n",
    "    </a>\n",
    "</figure>\n",
    "\n",
    "<b><font size=\"6\">Chemical Processes</font></b>\n",
    "\n",
    "<b><font size=\"6\">Absorption</font></b>\n",
    "\n",
    "© **[Jorge Ramírez](http://blogs.upm.es/compsoftmatter/)**, **[Universidad Politécnica de Madrid](http://www.upm.es)**, 2020"
   ]
  },
  {
   "cell_type": "markdown",
   "metadata": {},
   "source": [
    "# Introducttion\n",
    "\n",
    "In this unit we will review some basic concepts about dissolution and solubility of gases in liquids. Then, we will use that information to solve gas liquid absorption problems that frequently appear in Chemical Engineering.\n",
    "\n",
    "We begin by loading some of the libraries that we will use in this presentation. The codes inside the file `absorcion.py` have been written specifically for this exercise. You can inspect the contents of the file to see the implementation details. \n",
    "\n",
    "Execute the following code to load the necessary libraries (select the cell and press `Shift + Enter`). "
   ]
  },
  {
   "cell_type": "code",
   "execution_count": 1,
   "metadata": {
    "init_cell": true,
    "scrolled": true
   },
   "outputs": [],
   "source": [
    "from absorcion import *"
   ]
  },
  {
   "cell_type": "markdown",
   "metadata": {},
   "source": [
    "# Solubility of gases in liquids: Henry's law\n",
    "\n",
    "To solve gas-in-liquid absorption problems, we need information about the solubility of the chosen gas in the solvent used. Normally, this information is determined experimentally. If such information is not available, Henry's law can be used, although it has limitations. \n",
    "\n",
    "Henry's law relates the solubility of a gas in a liquid as a function of the partial pressure of that gas in contact with the liquid. It is valid for dilute solutions, when there is no reaction between solute (gas) and solvent (liquid) and strictly under equilibrium conditions, i.e. when both phases have been in contact for the time necessary for pressures and concentrations to reach the stationary value. There are several ways of expressing Henry's law. In this presentation, we will adopt the following equation:\n",
    "\n",
    "\\begin{equation}\n",
    "x_i =H_i p_i\n",
    "\\label{eq:Henry}\n",
    "\\end{equation}\n",
    "\n",
    "where $x_i$ is the concentration of the solute gas in the liquid (given by the mole fraction), $p_i$ is the partial pressure of gas $i$ that is in contact with the liquid and $H_i$ is Henry's constant, which depends on the nature of the solute gas, the solvent liquid and the temperature. In the equation \\eqref{eq:Henry}, if the partial pressure is given in atmospheres, then the units of Henry's constant are given in $\\mathrm{atm}^{-1}$.\n",
    "\n",
    "Henry's law expresses the proportionality between the partial pressure of the gas and its solubility in a given solvent. Therefore, if the partial pressure of the gas is doubled, its concentration in the solution will also double. This relationship is shown qualitatively in the figure below. \n",
    "\n",
    "<figure>\n",
    "    <img src=\"img/henry.png\" width=\"400\">\n",
    "</figure>\n"
   ]
  },
  {
   "cell_type": "markdown",
   "metadata": {},
   "source": [
    "In this exercise, we have taken from the article ([Sander, 2014](#bibliography)) the values of Henry's constants for a series of representative gases and taking water as the absorbing liquid."
   ]
  },
  {
   "cell_type": "markdown",
   "metadata": {},
   "source": [
    "## Solubility variation with temperature\n",
    "\n",
    "Henry's equation (equation \\eqref{eq:Henry}) expresses an equilibrium condition. The temperature dependence of the equilibrium constants can generally be described by the Van't Hoff equation. ([Atkins, 2018](#bibliography)). In the case of Henry's law, the temperature $T$ affects the value of the constant $H_i$ according to the expression:\n",
    "\n",
    "\\begin{equation}\n",
    "\\ln \\left( \\frac{H_i(T)}{H_i(T_{ref})} \\right) = -\\frac{\\Delta H_{sol}}{R}\\left( \\frac{1}{T} - \\frac{1}{T_{ref}} \\right)\n",
    "\\label{eq:Vanthoff}\n",
    "\\end{equation}\n",
    "\n",
    "where $H_i(T_{ref})$  the value of Henry's constant at the reference temperature $T_{ref}$ (which is usually 298.15 K).\n",
    "\n",
    "In the next step, we will compare how the solubility in water of two gases chosen from our free library varies with respect to the partial pressure and as a function of temperature. In parallel, we will observe how the Henry's constants of both gases vary with respect to temperature. Run the following code and modify the substances in the two drop-down lists to compare their respective water solubilities and Henry's constants as a function of partial pressure and temperature, respectively. Note how:\n",
    "\n",
    "- the relative solubilities of the two gases can be related to their chemical structure and the affinity of interactions with water molecules.\n",
    "\n",
    "- the dissolution of gases in liquids is almost always exothermic. This means that solubility decreases with increasing temperature."
   ]
  },
  {
   "cell_type": "code",
   "execution_count": 2,
   "metadata": {
    "init_cell": true,
    "scrolled": false
   },
   "outputs": [
    {
     "data": {
      "application/vnd.jupyter.widget-view+json": {
       "model_id": "f225278c9d2b4145932dedee94bf860e",
       "version_major": 2,
       "version_minor": 0
      },
      "text/plain": [
       "VBox(children=(HBox(children=(Dropdown(description='GasA', options=('O2', 'H2', 'CO2', 'N2', 'He', 'Ne', 'Ar',…"
      ]
     },
     "metadata": {},
     "output_type": "display_data"
    }
   ],
   "source": [
    "display(VBox([controlssolubility, outputsolubility]))"
   ]
  },
  {
   "cell_type": "markdown",
   "metadata": {},
   "source": [
    "# Molar ratios\n",
    "\n",
    "To solve absorption problems, it is common to represent the composition of liquid and gas streams in terms of **molar ratios**, instead of **molar fractions** or **partial pressures**. \n",
    "\n",
    "The molar ratios of solute $i$ in liquid $X$ and gaseous mixture $Y$ are defined as:\n",
    "\n",
    "\\begin{equation}\n",
    "X=\\frac{\\mathrm{Moles\\ of}\\ i\\ \\mathrm{in\\ the\\ liquid}}{\\mathrm{Moles\\ of\\ solvent}}\n",
    "\\label{eq:RatioX}\n",
    "\\end{equation}\n",
    "\n",
    "\\begin{equation}\n",
    "Y=\\frac{\\mathrm{Moles\\ of}\\ i\\ \\mathrm{in\\ the\\ gas}}{\\mathrm{Moles\\ of\\ carrier\\ gas}}\n",
    "\\label{eq:RatioY}\n",
    "\\end{equation}\n",
    "\n",
    "Remember that **molar ratios**, unlike **molar fractions** (which are defined by total moles), are expressed per mole of solute-free liquid ($X$) and gas ($Y$); that is, **per mole of solvent and carrier gas**, respectively. The relation between partial pressure $p_i$ of gas $i$ in the gaseous mixture and its molar ratio can be easily established (see course notes):\n",
    "\n",
    "\\begin{equation}\n",
    "Y=\\frac{y}{1-y}=\\frac{p_i}{P-p_i}, \\ \\ \\ y = \\frac{Y}{1+Y}\n",
    "\\label{eq:relationY}\n",
    "\\end{equation}\n",
    "\n",
    "where $P$ is the total pressure of the gas. The relation between mole ratio and mole fraction can also be easily established (see notes):\n",
    "\n",
    "\\begin{equation}\n",
    "X=\\frac{x}{1-x}, \\ \\ \\ x = \\frac{X}{1+X}\n",
    "\\label{eq:relationX}\n",
    "\\end{equation}"
   ]
  },
  {
   "cell_type": "markdown",
   "metadata": {},
   "source": [
    "## Equilibrium curve (solubility) expressed in terms of molar ratios\n",
    "\n",
    "From Henry's law (equation \\eqref{eq:Henry}) and the definitions of molar ratios in gas and liquid (equations \\eqref{eq:relacionY} and \\eqref{eq:relacionX}, respectively), the equilibrium curve (Henry's law) can be reformulated in terms of molar ratios. Henry's law is then expressed:\n",
    "\n",
    "\\begin{equation}\n",
    "Y = \\frac{X}{H_i P (1+X) -X}\n",
    "\\label{eq:HenryXY}\n",
    "\\end{equation}\n",
    "\n",
    "Next, we compare how the solubility in water of two gases chosen from our free library varies as a function of temperature and total pressure of the gaseous mixture, expressing the equilibrium curve as a function of the molar ratios $Y$ (in the gas) and $X$ (in the liquid). Note how the solubility of the different gases in water decreases with increasing $T$ and increases with increasing total pressure $P$."
   ]
  },
  {
   "cell_type": "code",
   "execution_count": 3,
   "metadata": {
    "init_cell": true,
    "scrolled": false
   },
   "outputs": [
    {
     "data": {
      "application/vnd.jupyter.widget-view+json": {
       "model_id": "2cdb9387931b4f2e83d5f6e975b1dd5e",
       "version_major": 2,
       "version_minor": 0
      },
      "text/plain": [
       "VBox(children=(HBox(children=(Dropdown(description='GasA', options=('O2', 'H2', 'CO2', 'N2', 'He', 'Ne', 'Ar',…"
      ]
     },
     "metadata": {},
     "output_type": "display_data"
    }
   ],
   "source": [
    "display(VBox([controlssolubilityYX, outputsolubilityYX]))"
   ]
  },
  {
   "cell_type": "markdown",
   "metadata": {},
   "source": [
    "<img style=\"float: right;\" src=\"img/Balance.png\" width=\"120\">\n",
    "\n",
    "# Mass balance and operating line\n",
    "\n",
    "To facilitate the solution of absorption problems in a simple way, the operating line is expressed as a function of the molar ratios of the solute in the liquid and gas phases (see notes). The following problem data are known:\n",
    "\n",
    "- The flow rate of the gas to be treated $G$ (in mol/s, kmol/h, etc) and its composition at the inlet of the absorption column (bottom of the column), in molar solute fraction $y_L$. Since the gas flow rate varies as the gas moves up the column (as the solute is transferred from the gas to the liquid), it is important to transform this information into carrier gas flow rate $G'$ (solute free carrier gas) and the solute molar ratio at the column inlet $Y_L$.\n",
    "\n",
    "- The concentration of solute in the absorbent liquid stream at its entrance to the column (top). This can be given in mole fraction $x_0$ or in mole ratio $X_0$. It is easy to transform one data into the other using the equation \\eqref{eq:relationX}. \n",
    "\n",
    "- The specification of the gas stream at the outlet of the column (top), i.e., the desired solute concentration, which can be given in mole fraction $y_0$ or mole ratio $Y_0$.\n",
    "\n",
    "With these data, solving the absorption problem consists of determining:\n",
    "\n",
    "- The liquid flow rate required to achieve the gas specification at the outlet.\n",
    "\n",
    "- The solute concentration in the liquid stream at the outlet of the column (bottom), $X_L$.\n",
    "\n",
    "- The number of equilibrium stages necessary to carry out the absorption."
   ]
  },
  {
   "cell_type": "markdown",
   "metadata": {},
   "source": [
    "<img style=\"float: right;\" src=\"img/Diagrama.png\" width=\"250\">\n",
    "\n",
    "## Limit operating line\n",
    "\n",
    "The first thing we must determine is the minimum ratio between the flow rates of liquid $L'$ and gas $G'$, free of solute, in order to perform the absorption. That is:\n",
    "\n",
    "\\begin{equation}\n",
    "\\left( \\frac{L'}{G'} \\right)_\\mathrm{min} = \\frac{Y_L-Y_0}{X_L^*-X_0}\n",
    "\\label{eq:LGmin}\n",
    "\\end{equation}\n",
    "\n",
    "where $X_L^*$ is the point at which the equilibrium curve takes the value $Y_L$.\n",
    "\n",
    "In the following example, this minimum ratio is determined as a function of the problem parameters. To simplify the example, the gas to be absorbed ($\\mathrm{CO}_2$), the inlet gas pressure at $P$=1 atm nd the temperature inside the column at $T$=298.15 K are fixed.\n",
    "\n",
    "Note how, in order for absorption to take place, the point $(X_0, Y_0)$ must be located above the equilibrium curve. Note also how the ratio $\\left( \\frac{L'}{G'} \\right)_\\mathrm{min}$ increases when the absorption specification (the amount of solute gas to be absorbed) is larger (i.e., when the difference $Y_L$ - $Y_0$ increases)."
   ]
  },
  {
   "cell_type": "code",
   "execution_count": 4,
   "metadata": {
    "init_cell": true,
    "scrolled": false
   },
   "outputs": [
    {
     "data": {
      "application/vnd.jupyter.widget-view+json": {
       "model_id": "23a0bec21e9e49a1a189a0f2fb321ccd",
       "version_major": 2,
       "version_minor": 0
      },
      "text/plain": [
       "VBox(children=(HBox(children=(BoundedFloatText(value=0.01, description='Y0', max=0.05, min=0.001, step=0.001),…"
      ]
     },
     "metadata": {},
     "output_type": "display_data"
    }
   ],
   "source": [
    "display(VBox([controlsYXmin, outputYXmin]))"
   ]
  },
  {
   "cell_type": "markdown",
   "metadata": {},
   "source": [
    "## Operating line\n",
    "\n",
    "A common design criterion is to set the operating flow rate as a factor of that obtained from the minimum ratio ($1.5 𝐿'_{min}$ is a common value). The next step in solving the absorption problem is to draw the operating line. Run the following code and modify the value of the factor $F$ to observe how the operation line is constructed."
   ]
  },
  {
   "cell_type": "code",
   "execution_count": 5,
   "metadata": {
    "init_cell": true,
    "scrolled": false
   },
   "outputs": [
    {
     "data": {
      "application/vnd.jupyter.widget-view+json": {
       "model_id": "0922710853474e58a00a7e336594727b",
       "version_major": 2,
       "version_minor": 0
      },
      "text/plain": [
       "VBox(children=(HBox(children=(BoundedFloatText(value=0.01, description='Y0', max=0.05, min=0.001, step=0.001),…"
      ]
     },
     "metadata": {},
     "output_type": "display_data"
    }
   ],
   "source": [
    "display(VBox([controlsYXopera, outputYXopera]))"
   ]
  },
  {
   "cell_type": "markdown",
   "metadata": {},
   "source": [
    "# Solving the absorption problem\n",
    "\n",
    "Once all the necessary lines have been drawn, we proceed to determine the number of equilibrium steps necessary to carry out the absorption according to the specification. To do this, we can either start from the point $(X_0, Y_0)$, or from the point $(X_L^*, Y_L)$ and draw straight steps that alternatively rest on the operating line and on the equilibrium curve. In the examples on this page, we will always start from the point $(X_L^*, Y_L)$.\n",
    "\n",
    "In the following example, the problem can be solved step by step:\n",
    "\n",
    "- Select input gas mixture conditions in column $Y_L$.\n",
    "- Select a specification for the outlet gas stream $Y_0$.\n",
    "- Select the conditions of the absorbing liquid at the inlet of column $X_0$.\n",
    "- Select the factor $F$ by which to multiply the minimum slope given by $\\left( \\frac{L'}{G'} \\right)_\\mathrm{min}$.\n",
    "- Increase the number of stages progressively and observe how the absorption diagram is built up stage by stage.\n",
    "- When the number of stages is sufficient to complete the desired absorption, the solution will be displayed on the graph. Increasing the number of stages above the required number of equilibrium stages does not affect the solution."
   ]
  },
  {
   "cell_type": "code",
   "execution_count": 6,
   "metadata": {
    "init_cell": true,
    "scrolled": false
   },
   "outputs": [
    {
     "data": {
      "application/vnd.jupyter.widget-view+json": {
       "model_id": "34ae3087432e465cbdd9f18e9fecfff4",
       "version_major": 2,
       "version_minor": 0
      },
      "text/plain": [
       "VBox(children=(HBox(children=(BoundedFloatText(value=0.01, description='Y0', max=0.05, min=0.001, step=0.001),…"
      ]
     },
     "metadata": {},
     "output_type": "display_data"
    }
   ],
   "source": [
    "display(VBox([controlsYXstep, outputYXstep]))"
   ]
  },
  {
   "cell_type": "markdown",
   "metadata": {},
   "source": [
    "# Exploring the method\n",
    "\n",
    "Having understood how the various variables and the specification affect the solution of an absorption problem, we can explore how the different parameters affect the number of steps required to solve it. To do this, we need to select:\n",
    "\n",
    "- Gas to be absorbed in water (**Gas**).\n",
    "- Temperature $T$ and pressure $P$ at which the column operates.\n",
    "- Conditions of the gaseous mixture at the inlet ($Y_L$) and outlet of the column ($Y_0$).\n",
    "- Conditions of the absorbing liquid at the inlet of the column ($X_0$).\n",
    "- Factor $F$ by which the minimum slope is to be multiplied ($\\left( \\frac{L'}{G'} \\right)= F \\left( \\frac{L'}{G'} \\right)_\\mathrm{min}$).\n",
    "\n",
    "Run the following code and play with the variables to see how the conditions of the absorption column vary.\n",
    "\n",
    "**NOTE**. Due to the mathematical complexity of some cases, it is possible that the application may crash. In that case, it is advisable to restart the Python interpreter and rerun everything. To do this, select the `Kernel/Restart & Run All` option from the menu..\n",
    "\n",
    "**NOTE**. Note how changing the $T$ and $P$ conditions of the column does not change the number of stages required to complete the absorption. However, the flow rate of absorbent liquid required to achieve this does vary."
   ]
  },
  {
   "cell_type": "code",
   "execution_count": 7,
   "metadata": {
    "init_cell": true,
    "scrolled": false
   },
   "outputs": [
    {
     "data": {
      "application/vnd.jupyter.widget-view+json": {
       "model_id": "9538115b1c0044edb2de7f35ca3fea01",
       "version_major": 2,
       "version_minor": 0
      },
      "text/plain": [
       "VBox(children=(HBox(children=(Dropdown(description='Gas', index=2, options=('O2', 'H2', 'CO2', 'N2', 'He', 'Ne…"
      ]
     },
     "metadata": {},
     "output_type": "display_data"
    }
   ],
   "source": [
    "display(VBox([controlsYXfull, outputYXfull]))"
   ]
  },
  {
   "cell_type": "markdown",
   "metadata": {},
   "source": [
    "# Bibliography\n",
    "\n",
    "<a id='bibliography'></a>\n",
    "\n",
    "1. Sander, R. [Compilation of Henry's law constants (version 4.0) for  water as solvent](http://dx.doi.org/10.5194/acp-15-4399-2015), *Atmos. Chem. Phys. Discuss* 14.21 (**2014**): 29615-30521.\n",
    "2. Atkins, P. W., J. de Paula and J. Keeler. [Atkins' physical chemistry](https://global.oup.com/ukhe/product/atkins-physical-chemistry-9780198769866?cc=gb&lang=en&). Oxford university press, 2018.\n"
   ]
  }
 ],
 "metadata": {
  "celltoolbar": "Initialization Cell",
  "kernelspec": {
   "display_name": "Python 3 (ipykernel)",
   "language": "python",
   "name": "python3"
  },
  "language_info": {
   "codemirror_mode": {
    "name": "ipython",
    "version": 3
   },
   "file_extension": ".py",
   "mimetype": "text/x-python",
   "name": "python",
   "nbconvert_exporter": "python",
   "pygments_lexer": "ipython3",
   "version": "3.7.4"
  },
  "toc": {
   "base_numbering": 1,
   "nav_menu": {},
   "number_sections": true,
   "sideBar": true,
   "skip_h1_title": false,
   "title_cell": "Table of Contents",
   "title_sidebar": "Contents",
   "toc_cell": false,
   "toc_position": {},
   "toc_section_display": true,
   "toc_window_display": true
  }
 },
 "nbformat": 4,
 "nbformat_minor": 4
}
