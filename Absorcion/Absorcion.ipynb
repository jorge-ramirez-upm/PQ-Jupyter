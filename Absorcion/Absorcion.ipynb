{
 "cells": [
  {
   "cell_type": "markdown",
   "metadata": {},
   "source": [
    "<img style=\"float: right;\" src=\"img/ColumnaAbsorcion.png\" width=\"250\">\n",
    "\n",
    "<figure>\n",
    "    <a href=\"http://www.upm.es\">\n",
    "    <img style=\"float: right;\" src=\"img/UPMLogo.png\" width=\"100\">\n",
    "    </a>\n",
    "</figure>\n",
    "\n",
    "<b><font size=\"6\">Absorción</font></b>\n",
    "\n",
    "© **[Jorge Ramírez](http://blogs.upm.es/compsoftmatter/)**, **[Universidad Politécnica de Madrid](http://www.upm.es)**, 2020"
   ]
  },
  {
   "cell_type": "markdown",
   "metadata": {},
   "source": [
    "# Introducción\n",
    "\n",
    "En esta unidad vamos a repasar algunos conceptos básicos sobre la disolución y solubilidad de gases en líquidos. Después, utilizaremos esa información para resolver problemas de absorción gás líquido que aparecen con frecuencia en Ingeniería Química.\n",
    "\n",
    "Comenzamos cargando algunas de las librerías que utilizaremos en esta presentación. Los códigos dentro del fichero `absorcion.py` han sido escritos expresamente para este ejercicio. Se puede inspeccionar el contenido del fichero para ver los detalles de la implementación. \n",
    "\n",
    "Ejecute el siguiente código para cargar las librerías necesarias (seleccione la celda y presione `Shift + Enter`). "
   ]
  },
  {
   "cell_type": "code",
   "execution_count": 1,
   "metadata": {
    "init_cell": true,
    "scrolled": true
   },
   "outputs": [],
   "source": [
    "from absorcion import *"
   ]
  },
  {
   "cell_type": "markdown",
   "metadata": {},
   "source": [
    "# Solubilidad de gases en líquidos: ley de Henry\n",
    "\n",
    "Para resolver problemas de absorción de gas en líquido, necesitamos información sobre la solubilidad del gas elegido en el disolvente utilizado. Normalmente, esta información se determina experimentalmente. Si dicha información no está disponible, se puede utilizar la ley de Henry, aunque tiene limitaciones. \n",
    "\n",
    "La ley de Henry relaciona la solubilidad de un gas en un líquido en función de la presión parcial de dicho gas en contacto con el líquido. Es válida para disoluciones diluidas, cuando no hay reacción entre soluto (gas) y disolvente (líquido) y estrictamente en condiciones de equilibrio, es decir, cuando ambas fases han estado en contacto el tiempo necesario para que presiones y concentraciones alcancen el valor estacionario. Hay varias formas de expresar la ley de Henry. En esta presentación, adoptaremos la siguiente ecuación:\n",
    "\n",
    "\\begin{equation}\n",
    "x_i =H_i p_i\n",
    "\\label{eq:Henry}\n",
    "\\end{equation}\n",
    "\n",
    "donde $x_i$ es la concentración del gas soluto en el líquido (dada por la fracción molar), $p_i$ es la presión parcial del gas $i$ que está en contacto con el líquido y $H_i$ es la constante de Henry, que depende de la naturaleza del gas soluto, del líquido disolvente y de la temperatura. En la equación \\eqref{eq:Henry}, si la presión parcial está dada en atmósferas, entonces las unidades de la constante de Henry vienen dadas en $\\mathrm{atm}^{-1}$.\n",
    "\n",
    "La ley de Henry expresa la proporcionalidad entre la presión parcial del gas y su solubilidad en un determinado disolvente. Por tanto, si se duplica la presión parcial del gas, también se duplicará su concentración en la disolución. Esta relación se muestra de forma cualitativa en la siguiente figura. \n",
    "\n",
    "<figure>\n",
    "    <a href=\"http://www.upm.es\">\n",
    "    <img src=\"img/henry.png\" width=\"400\">\n",
    "    </a>\n",
    "</figure>\n"
   ]
  },
  {
   "cell_type": "markdown",
   "metadata": {},
   "source": [
    "En este ejercicio, hemos tomado del artículo ([Sander, 2014](#bibliography)) los valores de las constantes de Henry para una serie de gases representativos y tomando agua como liquido absorbente."
   ]
  },
  {
   "cell_type": "markdown",
   "metadata": {},
   "source": [
    "## Variación de la solubilidad con la temperatura\n",
    "\n",
    "La ecuación de Henry (equación \\eqref{eq:Henry}) expresa una condición de equilibrio. La dependencia con la temperatura de las constantes de equilibrio se puede describir generalmente mediante la ecuación de Van't Hoff. ([Atkins, 2018](#bibliography)). En el caso de la ley de Henry, la temperatura $T$ afecta al valor de la constante $H_i$ según la expresión:\n",
    "\n",
    "\\begin{equation}\n",
    "\\ln \\left( \\frac{H_i(T)}{H_i(T_{ref})} \\right) = -\\frac{\\Delta H_{sol}}{R}\\left( \\frac{1}{T} - \\frac{1}{T_{ref}} \\right)\n",
    "\\label{eq:Vanthoff}\n",
    "\\end{equation}\n",
    "\n",
    "donde $H_i(T_{ref})$ es el valor de la constante de Henry a la temperatura de referencia $T_{ref}$ (que suele ser 298.15 K). \n",
    "\n",
    "A continuación, comparamos cómo varía la solubilidad en agua de dos gases escogidos de nuestra librearía con respecto a la presión parcial y en función de la temperatura. En paralelo, observaremos como las constantes de Henry de ambos gases varían con respecto a la temperatura. Ejecute el siguiente código y modifique las sustancias de las dos listas desplegables para comparar sus respectivas solubilidades en agua y constantes de Henry en función de la presión parcial y la temperatura, respectivamente. Observe como: \n",
    "\n",
    "- las solubilidades relativas de los dos gases se pueden relacionar con su estructura química y la afinidad de las interacciones con las moléculas de agua.\n",
    "\n",
    "- la disolución de gases en líquidos es casi siempre exotérmica. Eso se traduce en que la solubilidad disminuye al aumentar la temperatura."
   ]
  },
  {
   "cell_type": "code",
   "execution_count": 2,
   "metadata": {
    "init_cell": true,
    "scrolled": false
   },
   "outputs": [
    {
     "data": {
      "application/vnd.jupyter.widget-view+json": {
       "model_id": "154dee35856f4b60b2a027a494a61cea",
       "version_major": 2,
       "version_minor": 0
      },
      "text/plain": [
       "VBox(children=(HBox(children=(Dropdown(description='GasA', options=('O2', 'H2', 'CO2', 'N2', 'He', 'Ne', 'Ar',…"
      ]
     },
     "metadata": {},
     "output_type": "display_data"
    }
   ],
   "source": [
    "display(VBox([controlssolubility, outputsolubility]))"
   ]
  },
  {
   "cell_type": "markdown",
   "metadata": {},
   "source": [
    "# Razones molares\n",
    "\n",
    "Para resolver problemas de absorción, es común representar la composición de las corrientes líquida y gaseosa en términos de las **razones molares**, en lugar de las **fracciones molares** o **presiones parciales**. \n",
    "\n",
    "Se definen las razones molares del soluto $i$ en la mezcla líquida $X$ y gaseosa $Y$ como:\n",
    "\n",
    "\\begin{equation}\n",
    "X=\\frac{\\mathrm{Moles\\ de}\\ i\\ \\mathrm{en\\ el\\ líquido}}{\\mathrm{Moles\\ de\\ disolvente}}\n",
    "\\label{eq:RazonX}\n",
    "\\end{equation}\n",
    "\n",
    "\\begin{equation}\n",
    "Y=\\frac{\\mathrm{Moles\\ de}\\ i\\ \\mathrm{en\\ el\\ gas}}{\\mathrm{Moles\\ de\\ gas\\ portador}}\n",
    "\\label{eq:RazonY}\n",
    "\\end{equation}\n",
    "\n",
    "Recordad que las **razones molares**, a diferencia de las **fracciones molares** (que se definen por moles totales), se expresan por moles de líquido ($X$) y gas ($Y$) libres de soluto; es decir, **por mol de disolvente y de gas portador**, respectivamente. Se puede establecer fácilmente la relación entre presión parcial $p_i$ del gas $i$ en la mezcla gaseosa y su razón molar (ver apuntes de la asignatura):\n",
    "\n",
    "\\begin{equation}\n",
    "Y=\\frac{y}{1-y}=\\frac{p_i}{P-p_i}, \\ \\ \\ y = \\frac{Y}{1+Y}\n",
    "\\label{eq:relacionY}\n",
    "\\end{equation}\n",
    "\n",
    "donde $P$ es la presión total del gas. También se puede establecer fácilmente la relación entre razón y fracción molar (ver apuntes):\n",
    "\n",
    "\\begin{equation}\n",
    "X=\\frac{x}{1-x}, \\ \\ \\ x = \\frac{X}{1+X}\n",
    "\\label{eq:relacionX}\n",
    "\\end{equation}"
   ]
  },
  {
   "cell_type": "markdown",
   "metadata": {},
   "source": [
    "## Curva de equilibrio (solubilidad) expresada en términos de razones molares\n",
    "\n",
    "A partir de la ley de Henry (ecuación \\eqref{eq:Henry}) y las definiciones de razones molares en gas y líquido (ecuaciones \\eqref{eq:relacionY} y \\eqref{eq:relacionX}, respectivamente), se puede reformular la curva de equilibrio (ley de Henry) en función de razones molares. La ley de Henry queda:\n",
    "\n",
    "\\begin{equation}\n",
    "Y = \\frac{X}{H_i P (1+X) -X}\n",
    "\\label{eq:HenryXY}\n",
    "\\end{equation}\n",
    "\n",
    "A continuación, comparamos cómo varía la solubilidad en agua de dos gases escogidos de nuestra librearía, en función de la temperatura y la presión total de la mezcla gaseosa, expresando la curva de equilibrio en función de las razones molares $Y$ (en el gas) y $X$ (en el líquido). Observe cómo la solubilidad de los diferentes gases en agua disminuye al aumentar $T$ y aumenta al aumentar la presión total $P$."
   ]
  },
  {
   "cell_type": "code",
   "execution_count": 3,
   "metadata": {
    "init_cell": true,
    "scrolled": false
   },
   "outputs": [
    {
     "data": {
      "application/vnd.jupyter.widget-view+json": {
       "model_id": "a4d9a99eb64843fd9e0de69d76aef828",
       "version_major": 2,
       "version_minor": 0
      },
      "text/plain": [
       "VBox(children=(HBox(children=(Dropdown(description='GasA', options=('O2', 'H2', 'CO2', 'N2', 'He', 'Ne', 'Ar',…"
      ]
     },
     "metadata": {},
     "output_type": "display_data"
    }
   ],
   "source": [
    "display(VBox([controlssolubilityYX, outputsolubilityYX]))"
   ]
  },
  {
   "cell_type": "markdown",
   "metadata": {},
   "source": [
    "<img style=\"float: right;\" src=\"img/Balance.png\" width=\"120\">\n",
    "\n",
    "# Balance de materia y recta de operación\n",
    "\n",
    "Para facilitar la resolución de problemas de absorción de forma sencilla,  la recta de operación se expresa en función de las razones molares del soluto en las fases líquida y gaseosa (ver apuntes). Se conocen los siguientes datos del problema:\n",
    "\n",
    "- El caudal de gas que se desea tratar $G$ (en mol/s, kmol/h, etc) y su composición a la entrada de la columna de absorción (parte inferior de la columna), en fración molar de soluto $y_L$. Dado que el caudal de gas varía a medida que este asciende por la columna (ya que el soluto se transfiere del gas al líquido), es importante transformar esta información en caudal de gas portador $G'$ (gas portador libre de soluto) y la razón molar del soluto a la entrada de la columna $Y_L$. \n",
    "\n",
    "- La concentración de soluto en la corriente de líquido absorbente en su entrada a la columna (parte superior) . Esta puede venir dada en fracción molar $x_0$ o en razon molar $X_0$. Es fácil transformar un dato en el otro utilizando la ecuación \\eqref{eq:relacionX}. \n",
    "\n",
    "- La especificación de la corriente de gas a la salida de la columna (parte superior), es decir, la concentración de soluto deseada, que puede venir dada en fracción molar $y_0$ o en razón molar $Y_0$. \n",
    "\n",
    "Con estos datos, la resolución del problema de absorción consiste en determinar:\n",
    "\n",
    "- El caudal de líquido necesario para conseguir la especificación de gas a la salida.\n",
    "\n",
    "- La concentración de soluto en la corriente de líquido a la salida de la columna (parte inferior), $X_L$. \n",
    "\n",
    "- El número de etapas de equilibrio necesarias para llevar a cabo la absorción. "
   ]
  },
  {
   "cell_type": "markdown",
   "metadata": {},
   "source": [
    "<img style=\"float: right;\" src=\"img/Diagrama.png\" width=\"250\">\n",
    "\n",
    "## Recta de operación límite\n",
    "\n",
    "Lo primero que debemos determinar es la relación mímina entre los caudales de líquido $L'$ y gas $G'$, libres de soluto, para poder realizar la absorción. Es decir:\n",
    "\n",
    "\\begin{equation}\n",
    "\\left( \\frac{L'}{G'} \\right)_\\mathrm{min} = \\frac{Y_L-Y_0}{X_L^*-X_0}\n",
    "\\label{eq:LGmin}\n",
    "\\end{equation}\n",
    "\n",
    "donde $X_L^*$ es el punto en el que la curva de equilibrio toma el valor $Y_L$. \n",
    "\n",
    "En el siguiente ejemplo, se determina esta relación mínima en función de los parámetros del problema. Para simplificar el ejemplo, se ha fijado el gas que se desea absorber ($\\mathrm{CO}_2$), la presión del gas a la entrada en $P$=1 atm y la temperatura dentro de la columna en $T$=298.15 K. \n",
    "\n",
    "Observe cómo, para que la absorción pueda realizarse, el punto $(X_0, Y_0)$ debe estar situado por encima de la curva de equilibrio. Observe también cómo la relación $\\left( \\frac{L'}{G'} \\right)_\\mathrm{min}$ aumenta cuando la especificación de la absorción (la cantidad de gas soluto que se desea absorber) es mayor (es decir, cuando la diferencia $Y_L$ - $Y_0$ aumenta)."
   ]
  },
  {
   "cell_type": "code",
   "execution_count": 4,
   "metadata": {
    "init_cell": true,
    "scrolled": false
   },
   "outputs": [
    {
     "data": {
      "application/vnd.jupyter.widget-view+json": {
       "model_id": "2e20616711c740958e21c2ca2f4f224b",
       "version_major": 2,
       "version_minor": 0
      },
      "text/plain": [
       "VBox(children=(HBox(children=(BoundedFloatText(value=0.01, description='Y0', max=0.05, min=0.001, step=0.001),…"
      ]
     },
     "metadata": {},
     "output_type": "display_data"
    }
   ],
   "source": [
    "display(VBox([controlsYXmin, outputYXmin]))"
   ]
  },
  {
   "cell_type": "markdown",
   "metadata": {},
   "source": [
    "## Recta de operacion\n",
    "\n",
    "Un criterio de diseño habitual es fijar el caudal de operación como un factor del obtenido de la relación mínima ($1.5 𝐿'_{min}$ es un valor habitual). El siguiente paso para resolver el problema de absorción es dibujar la recta de operación. Ejecute el siguiente código y modifique el valor del factor $F$ para observar cómo se construye la recta de operación."
   ]
  },
  {
   "cell_type": "code",
   "execution_count": 5,
   "metadata": {
    "init_cell": true,
    "scrolled": false
   },
   "outputs": [
    {
     "data": {
      "application/vnd.jupyter.widget-view+json": {
       "model_id": "ad9866cdc6cb4a818d4c58ca78f17340",
       "version_major": 2,
       "version_minor": 0
      },
      "text/plain": [
       "VBox(children=(HBox(children=(BoundedFloatText(value=0.01, description='Y0', max=0.05, min=0.001, step=0.001),…"
      ]
     },
     "metadata": {},
     "output_type": "display_data"
    }
   ],
   "source": [
    "display(VBox([controlsYXopera, outputYXopera]))"
   ]
  },
  {
   "cell_type": "markdown",
   "metadata": {},
   "source": [
    "# Resolución del problema de absorción\n",
    "\n",
    "Una vez trazadas todas las rectas necesarias, se procede a determinar el nº de etapas de equilibrio necesarias para llevar a cabo la absorción de acuerdo a la especificación. Para ello se puede partir, o bien del punto $(X_0, Y_0)$, o bien del punto $(X_L^*, Y_L)$ y se trazan escalones rectos que se apoyan alternativamente en la recta de operación y en la curva de equilibrio. En los ejemplos de esta página, partiremos siempre del punto $(X_L^*, Y_L)$.\n",
    "\n",
    "En el siguiente ejemplo, se puede resolver el problema paso a paso:\n",
    "\n",
    "- Seleccione unas condiciones de la mezcla gaseosa de entrada en la columna $Y_L$.\n",
    "- Seleccione una especificación para la corriente gaseosa de salida $Y_0$.\n",
    "- Seleccione las condiciones del líquido absorbente a la entrada de la columna $X_0$.\n",
    "- Seleccione el factor $F$ por el cual se multiplicará la pendiente mínima dada por $\\left( \\frac{L'}{G'} \\right)_\\mathrm{min}$.\n",
    "- Incremente el nº de etapas progresivamente y observe cómo se va construyendo el diagrama de la absorción etapa a etapa.\n",
    "- Cuando el nº de etapas sea suficiente para completar la absorción deseada, se mostrará la solución en el gráfico. Incrementar el nº de etapas por encima del nº de etapas de equilibrio necesarias, no afecta a la solución."
   ]
  },
  {
   "cell_type": "code",
   "execution_count": 6,
   "metadata": {
    "init_cell": true,
    "scrolled": false
   },
   "outputs": [
    {
     "data": {
      "application/vnd.jupyter.widget-view+json": {
       "model_id": "ef45dd00feca4b1aba5acfcf156bdc84",
       "version_major": 2,
       "version_minor": 0
      },
      "text/plain": [
       "VBox(children=(HBox(children=(BoundedFloatText(value=0.01, description='Y0', max=0.05, min=0.001, step=0.001),…"
      ]
     },
     "metadata": {},
     "output_type": "display_data"
    }
   ],
   "source": [
    "display(VBox([controlsYXstep, outputYXstep]))"
   ]
  },
  {
   "cell_type": "markdown",
   "metadata": {},
   "source": [
    "# Explorando el método\n",
    "\n",
    "Una vez comprendido cómo las diversas variables y la especificación afectan a la resolución de un problema de absorción, podemos explorar cómo afectan los diferentes parámetros de la destilación al número de etapas necesarias para llevarla a cabo. Para ello, hay que seleccionar:\n",
    "\n",
    "- Gas que queremos absorber en agua (**Gas**).\n",
    "- Temperatura $T$ y presión $P$ a las que trabaja la columna.\n",
    "- Condiciones de la mezcla gaseosa a la entrada ($Y_L$) y salida de la columna ($Y_0$).\n",
    "- Condiciones del líquido absorbente a la entrada de la columna ($X_0$).\n",
    "- Factor $F$ por el cual se multiplicará la pendiente mínima ($\\left( \\frac{L'}{G'} \\right)= F \\left( \\frac{L'}{G'} \\right)_\\mathrm{min}$).\n",
    "\n",
    "Ejecute el siguiente código y juegue con las variables para ver cómo van variando las condiciones de la columna de absorción.\n",
    "\n",
    "**NOTA**: Debido a la complejidad matemática de algunos casos, es posible que la aplicación se quede bloqueada. En ese caso, es recomendable reiniciar el intérprete de Python y volver a ejecutar todo. Para ello, seleccione la opción `Kernel/Restart & Run All` del menú.\n",
    "\n",
    "**NOTA**. Observe cómo al cambiar las condiciones de $T$ y $P$ de la columna, no varían el nº de etapas necesarias para completar la absorción. Si que varía, en cambio, el caudal de líquido absorbente neceario para conseguirlo."
   ]
  },
  {
   "cell_type": "code",
   "execution_count": 7,
   "metadata": {
    "init_cell": true,
    "scrolled": true
   },
   "outputs": [
    {
     "data": {
      "application/vnd.jupyter.widget-view+json": {
       "model_id": "2241b14f34054634a5ce8d94329a81c0",
       "version_major": 2,
       "version_minor": 0
      },
      "text/plain": [
       "VBox(children=(HBox(children=(Dropdown(description='Gas', index=2, options=('O2', 'H2', 'CO2', 'N2', 'He', 'Ne…"
      ]
     },
     "metadata": {},
     "output_type": "display_data"
    }
   ],
   "source": [
    "display(VBox([controlsYXfull, outputYXfull]))"
   ]
  },
  {
   "cell_type": "markdown",
   "metadata": {},
   "source": [
    "# Referencias\n",
    "\n",
    "<a id='bibliography'></a>\n",
    "\n",
    "1. Sander, R. [Compilation of Henry's law constants (version 4.0) for  water as solvent](http://dx.doi.org/10.5194/acp-15-4399-2015), *Atmos. Chem. Phys. Discuss* 14.21 (**2014**): 29615-30521.\n",
    "2. Atkins, P. W., J. de Paula and J. Keeler. [Atkins' physical chemistry](https://global.oup.com/ukhe/product/atkins-physical-chemistry-9780198769866?cc=gb&lang=en&). Oxford university press, 2018.\n"
   ]
  }
 ],
 "metadata": {
  "celltoolbar": "Initialization Cell",
  "kernelspec": {
   "display_name": "Python 3",
   "language": "python",
   "name": "python3"
  },
  "language_info": {
   "codemirror_mode": {
    "name": "ipython",
    "version": 3
   },
   "file_extension": ".py",
   "mimetype": "text/x-python",
   "name": "python",
   "nbconvert_exporter": "python",
   "pygments_lexer": "ipython3",
   "version": "3.7.4"
  },
  "toc": {
   "base_numbering": 1,
   "nav_menu": {},
   "number_sections": true,
   "sideBar": true,
   "skip_h1_title": false,
   "title_cell": "Table of Contents",
   "title_sidebar": "Contents",
   "toc_cell": false,
   "toc_position": {},
   "toc_section_display": true,
   "toc_window_display": true
  }
 },
 "nbformat": 4,
 "nbformat_minor": 4
}
